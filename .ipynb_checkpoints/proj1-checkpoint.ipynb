{
 "cells": [
  {
   "cell_type": "markdown",
   "metadata": {
    "colab_type": "text",
    "id": "view-in-github"
   },
   "source": [
    "### Main Project 1 script"
   ]
  },
  {
   "cell_type": "code",
   "execution_count": 92,
   "metadata": {
    "colab": {},
    "colab_type": "code",
    "id": "ZUIDFL5jxvxe"
   },
   "outputs": [],
   "source": [
    "from __future__ import print_function\n",
    "import numpy as np\n",
    "import random\n",
    "import matplotlib.pyplot as plt\n",
    "%matplotlib inline\n",
    "from sklearn.datasets import fetch_20newsgroups\n",
    "\n",
    "np.random.seed(42)\n",
    "random.seed(42)"
   ]
  },
  {
   "cell_type": "code",
   "execution_count": 17,
   "metadata": {
    "colab": {},
    "colab_type": "code",
    "id": "D7FSvO5_xvxj"
   },
   "outputs": [],
   "source": [
    "# categories = ['comp.graphics', 'comp.os.ms-windows.misc',\n",
    "#               'comp.sys.ibm.pc.hardware', 'comp.sys.mac.hardware',\n",
    "#               'rec.autos', 'rec.motorcycles',\n",
    "#               'rec.sport.baseball', 'rec.sport.hockey']\n",
    "# train_dataset = fetch_20newsgroups(subset='train', categories=categories, shuffle=True, random_state=42)\n",
    "# test_dataset = fetch_20newsgroups(subset='test', categories=categories, shuffle=True, random_state=42)"
   ]
  },
  {
   "cell_type": "markdown",
   "metadata": {
    "colab_type": "text",
    "id": "ob_91Lq_xvxl"
   },
   "source": [
    "## Question 1"
   ]
  },
  {
   "cell_type": "code",
   "execution_count": 18,
   "metadata": {
    "colab": {},
    "colab_type": "code",
    "id": "0WEfap6yxvxm",
    "outputId": "dc8a8680-a3b7-420a-bb63-cb2aaf14810e"
   },
   "outputs": [
    {
     "data": {
<<<<<<< HEAD
      "image/png": "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\n",
=======
      "image/png": "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\n",
>>>>>>> 7b858fa2f2b7364dd1eb46b0d2b2ad8bdfed507a
      "text/plain": [
       "<Figure size 432x288 with 1 Axes>"
      ]
     },
     "metadata": {
      "needs_background": "light"
     },
     "output_type": "display_data"
    }
   ],
   "source": [
    "# Fetch all 20 news groups categories and plot a histogram of the training documents.\n",
    "\n",
    "newsgroups_train = fetch_20newsgroups(subset='train', shuffle=True, random_state=42)\n",
    "plt.hist(newsgroups_train.target, 20)\n",
    "plt.show()"
   ]
  },
  {
   "cell_type": "markdown",
   "metadata": {
    "colab_type": "text",
    "id": "aIGvgdKMxvxr"
   },
   "source": [
    "## Question 2"
   ]
  },
  {
   "cell_type": "code",
   "execution_count": 19,
   "metadata": {
    "colab": {},
    "colab_type": "code",
    "id": "PCUxRNaDxvxs"
   },
   "outputs": [
    {
     "name": "stdout",
     "output_type": "stream",
     "text": [
<<<<<<< HEAD
      "/Users/akash/scikit_learn_data/20news_home/20news-bydate-train/comp.sys.mac.hardware/51613\n",
=======
      "C:\\Users\\zharr\\scikit_learn_data\\20news_home\\20news-bydate-train\\comp.sys.mac.hardware\\51613\n",
>>>>>>> 7b858fa2f2b7364dd1eb46b0d2b2ad8bdfed507a
      "3\n",
      "['comp.graphics', 'comp.os.ms-windows.misc', 'comp.sys.ibm.pc.hardware', 'comp.sys.mac.hardware', 'rec.autos', 'rec.motorcycles', 'rec.sport.baseball', 'rec.sport.hockey']\n"
     ]
    }
   ],
   "source": [
    "########################################################################################################################\n",
    "# Fetching 20NewsGroups dataset\n",
    "\n",
    "categories = ['comp.graphics', 'comp.os.ms-windows.misc',\n",
    "              'comp.sys.ibm.pc.hardware', 'comp.sys.mac.hardware',\n",
    "              'rec.autos', 'rec.motorcycles',\n",
    "              'rec.sport.baseball', 'rec.sport.hockey']\n",
    "\n",
    "twenty_train = fetch_20newsgroups(subset='train', # choose which subset of the dataset to use; can be 'train', 'test', 'all'\n",
    "                                  categories=categories, # choose the categories to load; if is `None`, load all categories\n",
    "                                  shuffle=True,\n",
    "                                  random_state=42, # set the seed of random number generator when shuffling to make the outcome repeatable across different runs\n",
    "                                  # remove=['headers'],\n",
    "                                  )\n",
    "twenty_test = fetch_20newsgroups(subset='test', categories=categories, shuffle=True, random_state=42)\n",
    "\n",
    "# Change labels into binary based on two well separated classes: Computer (labels 0-3) and Recreational (labels 4-7).\n",
    "twenty_train_binary_labels = np.zeros(len(twenty_train.target))\n",
    "for k in range(len(twenty_train.target)):\n",
    "    if twenty_train.target[k] >= 4:\n",
    "        twenty_train_binary_labels[k] = 1\n",
    "twenty_test_binary_labels = np.zeros(len(twenty_test.target))\n",
    "for k in range(len(twenty_test.target)):\n",
    "    if twenty_test.target[k] >= 4:\n",
    "        twenty_test_binary_labels[k] = 1\n",
    "        \n",
    "i = 51\n",
    "print(twenty_train.filenames[i])\n",
    "print(twenty_train.target[i])\n",
    "print(twenty_train.target_names)"
   ]
  },
  {
   "cell_type": "code",
   "execution_count": 20,
   "metadata": {
    "colab": {},
    "colab_type": "code",
    "id": "Y1Aq6iCbxvxu"
   },
<<<<<<< HEAD
   "outputs": [
    {
     "name": "stderr",
     "output_type": "stream",
     "text": [
      "[nltk_data] Downloading package punkt to /Users/akash/nltk_data...\n",
      "[nltk_data]   Package punkt is already up-to-date!\n",
      "[nltk_data] Downloading package averaged_perceptron_tagger to\n",
      "[nltk_data]     /Users/akash/nltk_data...\n",
      "[nltk_data]   Package averaged_perceptron_tagger is already up-to-\n",
      "[nltk_data]       date!\n",
      "[nltk_data] Downloading package wordnet to /Users/akash/nltk_data...\n",
      "[nltk_data]   Package wordnet is already up-to-date!\n"
     ]
    }
   ],
=======
   "outputs": [],
>>>>>>> 7b858fa2f2b7364dd1eb46b0d2b2ad8bdfed507a
   "source": [
    "########################################################################################################################\n",
    "# Perform lemmatization on dataset\n",
    "\n",
    "# The lemmatizer is actually pretty complicated, it needs Parts of Speech (POS) tags\n",
    "import nltk\n",
    "from nltk import pos_tag\n",
    "nltk.download('punkt')#, if you need \"tokenizers/punkt/english.pickle\", choose it\n",
    "nltk.download('averaged_perceptron_tagger')\n",
    "nltk.download('wordnet')\n",
    "# nltk.download('averaged_perceptron_tagger')\n",
    "\n",
    "def penn2morphy(penntag):\n",
    "    \"\"\" Converts Penn Treebank tags to WordNet. \"\"\"\n",
    "    morphy_tag = {'NN': 'n', 'JJ': 'a',\n",
    "                  'VB': 'v', 'RB': 'r'}\n",
    "    try:\n",
    "        return morphy_tag[penntag[:2]]\n",
    "    except:\n",
    "        return 'n'\n",
    "\n",
    "\n",
    "# def lemmatize_sent(list_word, wnl):\n",
    "#     # Text input is string, returns array of lowercased strings(words).\n",
    "#     return [wnl.lemmatize(word.lower(), pos=penn2morphy(tag))\n",
    "#             for word, tag in pos_tag(list_word)]\n",
    "\n",
    "\n",
    "wnl = nltk.wordnet.WordNetLemmatizer()\n",
    "def lemmatize_training(text):\n",
    "    # Text input is string, returns array of lowercased strings(words).\n",
    "    return [wnl.lemmatize(word.lower(), pos=penn2morphy(tag))\n",
    "            for word, tag in pos_tag(nltk.word_tokenize(text))]\n",
    "\n",
    "\n",
    "# TODO: should this filter out the following numbers too? \"4-5\" \"c650\"\n",
    "def filter_numbers(text_array):\n",
    "    # Filter out any numbers found in the array of strings\n",
    "    output = []\n",
    "    for s in text_array:\n",
    "        if not s.isdigit():\n",
    "            # if not a digit...\n",
    "            try:\n",
    "                # if a float, filter out\n",
    "                float(s)\n",
    "            except ValueError:\n",
    "                # if not a float, add to output\n",
    "                output.append(s)\n",
    "        else:\n",
    "            # if a digit, filter out\n",
    "            pass\n",
    "    return output\n",
    "\n",
    "\n",
    "def array_to_string(text_array, delimeter=\"\"):\n",
    "    # Converts an array back into a string of words using the provided delimeter to add between each word\n",
    "    output = \"\"\n",
    "    for s in text_array:\n",
    "        output = output + delimeter + s\n",
    "    return output\n",
    "\n",
    "\n",
    "def lemmatize_and_filter(documents):\n",
    "    # Performs lemmatization, and number filtering on the given documents\n",
    "    lemmatized_data = []\n",
    "    for i in documents:\n",
    "        # lemmatize the document:\n",
    "        training_tagged = pos_tag(nltk.word_tokenize(i))\n",
    "        lemmatized_array = lemmatize_training(i)\n",
    "\n",
    "        # remove numbers from document:\n",
    "        filtered_array = filter_numbers(lemmatized_array)\n",
    "\n",
    "        # reassemble back to string:\n",
    "        lemmatized_string = array_to_string(filtered_array, ' ')\n",
    "\n",
    "        # add to final data list\n",
    "        # print(lemmatized_string)\n",
    "        lemmatized_data.append(lemmatized_string)\n",
    "\n",
    "    return lemmatized_data\n",
    "\n",
    "\n",
    "# print(lemmatized_data[0])\n",
    "lemmatized_training = lemmatize_and_filter(twenty_train.data)\n",
    "lemmatized_testing = lemmatize_and_filter(twenty_test.data)"
   ]
  },
  {
   "cell_type": "code",
<<<<<<< HEAD
   "execution_count": 21,
=======
   "execution_count": 6,
>>>>>>> 7b858fa2f2b7364dd1eb46b0d2b2ad8bdfed507a
   "metadata": {
    "colab": {},
    "colab_type": "code",
    "id": "BjA770b7xvxw"
   },
   "outputs": [],
   "source": [
    "########################################################################################################################\n",
    "# Push lemmatized documents through CountVectorizer\n",
    "\n",
    "# count_vect = CountVectorizer(min_df=3)\n",
    "from sklearn.feature_extraction.text import CountVectorizer\n",
    "\n",
    "# do for training\n",
    "count_vect = CountVectorizer(min_df=3, stop_words='english')\n",
    "X_lemmatized_train_counts = count_vect.fit_transform(lemmatized_training)\n",
    "\n",
    "# do for testing\n",
    "X_lemmatized_test_counts = count_vect.transform(lemmatized_testing)"
   ]
  },
  {
   "cell_type": "code",
<<<<<<< HEAD
   "execution_count": 22,
=======
   "execution_count": 7,
>>>>>>> 7b858fa2f2b7364dd1eb46b0d2b2ad8bdfed507a
   "metadata": {
    "colab": {},
    "colab_type": "code",
    "id": "Z0Ju4BQ8xvxz",
    "outputId": "11b41fa6-8266-401a-90b7-f27aaf7151c6"
   },
   "outputs": [
    {
     "name": "stdout",
     "output_type": "stream",
     "text": [
<<<<<<< HEAD
      "(4732, 17424)\n",
=======
      "(4732, 17426)\n",
>>>>>>> 7b858fa2f2b7364dd1eb46b0d2b2ad8bdfed507a
      "--------------------\n",
      "[[0 0 0 0 0]\n",
      " [0 0 0 0 0]\n",
      " [0 0 0 0 0]\n",
      " [0 0 0 0 0]\n",
      " [0 0 0 0 0]\n",
      " [0 0 0 0 0]\n",
      " [0 0 0 0 0]\n",
      " [0 0 0 0 0]\n",
      " [0 0 0 0 0]\n",
      " [0 0 0 0 0]\n",
      " [0 0 0 0 0]\n",
      " [0 0 0 0 0]\n",
      " [0 0 0 0 0]\n",
      " [0 0 0 0 0]\n",
      " [0 0 0 0 0]\n",
      " [0 0 0 0 0]\n",
      " [0 0 0 0 0]\n",
      " [0 0 0 0 0]\n",
      " [0 0 0 0 0]\n",
      " [0 0 0 0 0]\n",
      " [0 0 0 0 0]\n",
      " [0 0 0 0 0]\n",
      " [0 0 0 0 0]\n",
      " [0 0 0 0 0]\n",
      " [0 0 0 0 0]\n",
      " [0 0 0 0 0]\n",
      " [0 0 0 0 0]\n",
      " [0 0 0 0 0]\n",
      " [0 0 0 0 0]\n",
      " [0 0 0 0 0]]\n",
      "--------------------\n",
      "[[0. 0. 0. 0. 0.]\n",
      " [0. 0. 0. 0. 0.]\n",
      " [0. 0. 0. 0. 0.]\n",
      " [0. 0. 0. 0. 0.]\n",
      " [0. 0. 0. 0. 0.]\n",
      " [0. 0. 0. 0. 0.]\n",
      " [0. 0. 0. 0. 0.]\n",
      " [0. 0. 0. 0. 0.]\n",
      " [0. 0. 0. 0. 0.]\n",
      " [0. 0. 0. 0. 0.]\n",
      " [0. 0. 0. 0. 0.]\n",
      " [0. 0. 0. 0. 0.]\n",
      " [0. 0. 0. 0. 0.]\n",
      " [0. 0. 0. 0. 0.]\n",
      " [0. 0. 0. 0. 0.]\n",
      " [0. 0. 0. 0. 0.]\n",
      " [0. 0. 0. 0. 0.]\n",
      " [0. 0. 0. 0. 0.]\n",
      " [0. 0. 0. 0. 0.]\n",
      " [0. 0. 0. 0. 0.]\n",
      " [0. 0. 0. 0. 0.]\n",
      " [0. 0. 0. 0. 0.]\n",
      " [0. 0. 0. 0. 0.]\n",
      " [0. 0. 0. 0. 0.]\n",
      " [0. 0. 0. 0. 0.]\n",
      " [0. 0. 0. 0. 0.]\n",
      " [0. 0. 0. 0. 0.]\n",
      " [0. 0. 0. 0. 0.]\n",
      " [0. 0. 0. 0. 0.]\n",
      " [0. 0. 0. 0. 0.]]\n",
<<<<<<< HEAD
      "(3150, 17424)\n",
=======
      "(3150, 17426)\n",
>>>>>>> 7b858fa2f2b7364dd1eb46b0d2b2ad8bdfed507a
      "--------------------\n",
      "[[0 0 0 0 0]\n",
      " [0 0 0 0 0]\n",
      " [0 0 0 0 0]\n",
      " [0 0 0 0 0]\n",
      " [0 0 0 0 0]\n",
      " [1 0 0 0 0]\n",
      " [0 0 0 0 0]\n",
      " [0 0 0 0 0]\n",
      " [0 0 0 0 0]\n",
      " [0 0 0 0 0]\n",
      " [0 0 0 0 0]\n",
      " [0 0 0 0 0]\n",
      " [0 0 0 0 0]\n",
      " [0 0 0 0 0]\n",
      " [0 0 0 0 0]\n",
      " [0 0 0 0 0]\n",
      " [0 0 0 0 0]\n",
      " [0 0 0 0 0]\n",
      " [0 0 0 0 0]\n",
      " [0 0 0 0 0]\n",
      " [0 0 0 0 0]\n",
      " [0 0 0 0 0]\n",
      " [0 0 0 0 0]\n",
      " [0 0 0 0 0]\n",
      " [0 0 0 0 0]\n",
      " [0 0 0 0 0]\n",
      " [0 0 0 0 0]\n",
      " [0 0 0 0 0]\n",
      " [0 0 0 0 0]\n",
      " [0 0 0 0 0]]\n",
      "--------------------\n",
      "[[0.         0.         0.         0.         0.        ]\n",
      " [0.         0.         0.         0.         0.        ]\n",
      " [0.         0.         0.         0.         0.        ]\n",
      " [0.         0.         0.         0.         0.        ]\n",
      " [0.         0.         0.         0.         0.        ]\n",
      " [0.07367032 0.         0.         0.         0.        ]\n",
      " [0.         0.         0.         0.         0.        ]\n",
      " [0.         0.         0.         0.         0.        ]\n",
      " [0.         0.         0.         0.         0.        ]\n",
      " [0.         0.         0.         0.         0.        ]\n",
      " [0.         0.         0.         0.         0.        ]\n",
      " [0.         0.         0.         0.         0.        ]\n",
      " [0.         0.         0.         0.         0.        ]\n",
      " [0.         0.         0.         0.         0.        ]\n",
      " [0.         0.         0.         0.         0.        ]\n",
      " [0.         0.         0.         0.         0.        ]\n",
      " [0.         0.         0.         0.         0.        ]\n",
      " [0.         0.         0.         0.         0.        ]\n",
      " [0.         0.         0.         0.         0.        ]\n",
      " [0.         0.         0.         0.         0.        ]\n",
      " [0.         0.         0.         0.         0.        ]\n",
      " [0.         0.         0.         0.         0.        ]\n",
      " [0.         0.         0.         0.         0.        ]\n",
      " [0.         0.         0.         0.         0.        ]\n",
      " [0.         0.         0.         0.         0.        ]\n",
      " [0.         0.         0.         0.         0.        ]\n",
      " [0.         0.         0.         0.         0.        ]\n",
      " [0.         0.         0.         0.         0.        ]\n",
      " [0.         0.         0.         0.         0.        ]\n",
      " [0.         0.         0.         0.         0.        ]]\n"
     ]
    }
   ],
   "source": [
    "########################################################################################################################\n",
    "# Report shapes of TF-IDF matrices\n",
    "\n",
    "from sklearn.feature_extraction.text import TfidfTransformer\n",
    "tfidf_transformer = TfidfTransformer()\n",
    "\n",
    "# do for training\n",
    "X_lemmatized_train_tfidf = tfidf_transformer.fit_transform(X_lemmatized_train_counts)\n",
    "\n",
    "print(X_lemmatized_train_tfidf.shape)\n",
    "print('-' * 20)\n",
    "print(X_lemmatized_train_counts.toarray()[:30, :5])\n",
    "print('-' * 20)\n",
    "print(X_lemmatized_train_tfidf.toarray()[:30, :5])\n",
    "\n",
    "# do for testing\n",
    "X_lemmatized_test_tfidf = tfidf_transformer.transform(X_lemmatized_test_counts)\n",
    "\n",
    "print(X_lemmatized_test_tfidf.shape)\n",
    "print('-' * 20)\n",
    "print(X_lemmatized_test_counts.toarray()[:30, :5])\n",
    "print('-' * 20)\n",
    "print(X_lemmatized_test_tfidf.toarray()[:30, :5])"
   ]
  },
  {
   "cell_type": "markdown",
   "metadata": {
    "colab_type": "text",
    "collapsed": true,
    "id": "5o5ftdgBxvx3"
   },
   "source": [
    "## Question 3"
   ]
  },
  {
   "cell_type": "code",
<<<<<<< HEAD
   "execution_count": 23,
=======
   "execution_count": 8,
>>>>>>> 7b858fa2f2b7364dd1eb46b0d2b2ad8bdfed507a
   "metadata": {
    "colab": {},
    "colab_type": "code",
    "id": "MVuiiQJoxvx3",
    "outputId": "a5da2dcb-8bc2-45d9-d9b2-aa949a9c6ff9"
   },
   "outputs": [
    {
     "name": "stdout",
     "output_type": "stream",
     "text": [
      "(4732, 50)\n",
<<<<<<< HEAD
      "(50, 17424)\n",
      "(4732, 50)\n",
      "(50, 17424)\n"
=======
      "(50, 17426)\n",
      "(4732, 50)\n",
      "(50, 17426)\n"
>>>>>>> 7b858fa2f2b7364dd1eb46b0d2b2ad8bdfed507a
     ]
    }
   ],
   "source": [
    "# Perform LSI using the truncated SVD\n",
    "\n",
    "from sklearn.decomposition import TruncatedSVD\n",
    "\n",
    "svd = TruncatedSVD(n_components=50, random_state=42)\n",
    "X_lsi_train_reduced = svd.fit_transform(X_lemmatized_train_tfidf)\n",
    "Y_lsi_train_reduced = svd.components_\n",
    "print(X_lsi_train_reduced.shape)\n",
    "print(svd.components_.shape)\n",
    "\n",
    "X_lsi_test_reduced = svd.transform(X_lemmatized_test_tfidf)\n",
    "Y_lsi_test_reduced = svd.components_\n",
    "print(X_lsi_train_reduced.shape)\n",
    "print(svd.components_.shape)"
   ]
  },
  {
   "cell_type": "code",
<<<<<<< HEAD
   "execution_count": 24,
=======
   "execution_count": 9,
>>>>>>> 7b858fa2f2b7364dd1eb46b0d2b2ad8bdfed507a
   "metadata": {
    "colab": {},
    "colab_type": "code",
    "id": "URSfInKOxvx6",
    "outputId": "d93fc1e9-0aac-4211-e920-12872703dde2"
   },
   "outputs": [
    {
     "name": "stdout",
     "output_type": "stream",
     "text": [
      "(4732, 50)\n",
<<<<<<< HEAD
      "(50, 17424)\n"
=======
      "(50, 17426)\n"
>>>>>>> 7b858fa2f2b7364dd1eb46b0d2b2ad8bdfed507a
     ]
    }
   ],
   "source": [
    "# Perform NMF\n",
    "\n",
    "from sklearn.decomposition import NMF\n",
    "\n",
    "model = NMF(n_components=50, init='random', random_state=42)\n",
    "W_nmf_train_reduced = model.fit_transform(X_lemmatized_train_tfidf)\n",
    "H_nmf_train_reduced = model.components_\n",
    "\n",
    "print(W_nmf_train_reduced.shape)\n",
    "print(H_nmf_train_reduced.shape)\n",
    "\n",
    "W_nmf_test_reduced = model.transform(X_lemmatized_test_tfidf)\n",
    "H_nmf_test_reduced = model.components_"
   ]
  },
  {
   "cell_type": "code",
<<<<<<< HEAD
   "execution_count": 25,
=======
   "execution_count": 10,
>>>>>>> 7b858fa2f2b7364dd1eb46b0d2b2ad8bdfed507a
   "metadata": {
    "colab": {},
    "colab_type": "code",
    "id": "AfGbsKGhxvx-",
    "outputId": "9ebacd84-439f-4a77-e1dc-694ab155539b"
   },
   "outputs": [
    {
     "name": "stdout",
     "output_type": "stream",
     "text": [
<<<<<<< HEAD
      "NMF:  4156.3103433894385\n",
      "LSI:  4119.9668467192705\n"
=======
      "NMF:  4156.10431111368\n",
      "LSI:  4119.969936285531\n"
>>>>>>> 7b858fa2f2b7364dd1eb46b0d2b2ad8bdfed507a
     ]
    }
   ],
   "source": [
    "# Compare LSI and NMF\n",
    "\n",
    "nmf_val = np.linalg.norm(X_lemmatized_train_tfidf - np.matmul(W_nmf_train_reduced, H_nmf_train_reduced), 'fro')**2\n",
    "lsi_val = np.linalg.norm(X_lemmatized_train_tfidf - np.matmul(X_lsi_train_reduced, Y_lsi_train_reduced), 'fro')**2\n",
    "\n",
    "print('NMF: ', nmf_val)\n",
    "print('LSI: ', lsi_val)"
   ]
  },
  {
   "cell_type": "markdown",
   "metadata": {},
   "source": [
    "## Question 4"
   ]
  },
  {
   "cell_type": "code",
<<<<<<< HEAD
   "execution_count": 77,
   "metadata": {},
   "outputs": [],
   "source": [
    "# Training 2 linear SVMs\n",
    "\n",
    "from sklearn.svm import LinearSVC\n",
    "\n",
    "# hard margin\n",
    "gamma_1 = 1000\n",
    "clf_svc_1 = LinearSVC(C=gamma_1,max_iter=100000).fit(X_lsi_train_reduced, twenty_train_binary_labels)\n",
    "predicted_svc_1 = clf_svc_1.predict(X_lsi_test_reduced)\n",
    "\n",
    "# using max_iter=100000 because otherwise the hard margin classifier does not converge\n",
    "\n",
    "#soft margin\n",
    "gamma_2 = 0.0001\n",
    "clf_svc_2 = LinearSVC(C=gamma_2,max_iter=100000).fit(X_lsi_train_reduced, twenty_train_binary_labels)\n",
    "predicted_svc_2 = clf_svc_2.predict(X_lsi_test_reduced)"
   ]
  },
  {
   "cell_type": "code",
   "execution_count": 78,
   "metadata": {},
   "outputs": [
    {
     "name": "stdout",
     "output_type": "stream",
     "text": [
      "Confusion matrix for linear SVM hard margin: \n",
      " [[1506   54]\n",
      " [  37 1553]]\n",
      "Accuracy for linear SVM hard margin:  0.9711111111111111\n",
      "Precision score for linear SVM hard margin:  0.9663970130678282\n",
      "Recall score for linear SVM hard margin:  0.9767295597484277\n",
      "F-1 score for linear SVM hard margin: 0.9715358148263997\n"
     ]
    }
   ],
   "source": [
    "# Find confusion matrix, accuracy, precision-recall, and F-1 scores for the hard margin\n",
    "\n",
    "# Confusion matrix\n",
    "from sklearn.metrics import confusion_matrix\n",
    "\n",
    "print('Confusion matrix for linear SVM hard margin: \\n', confusion_matrix(twenty_test_binary_labels, predicted_svc_1))\n",
    "\n",
    "# Accuracy\n",
    "from sklearn.metrics import accuracy_score\n",
    "\n",
    "print('Accuracy for linear SVM hard margin: ', accuracy_score(twenty_test_binary_labels, predicted_svc_1))\n",
    "\n",
    "# Average precision-recall score\n",
    "from sklearn.metrics import average_precision_score\n",
    "from sklearn.metrics import precision_score\n",
    "from sklearn.metrics import recall_score\n",
    "\n",
    "# print('Average precision-recall score:', average_precision_score(twenty_test.target, predicted))\n",
    "print('Precision score for linear SVM hard margin: ', precision_score(twenty_test_binary_labels, predicted_svc_1))\n",
    "print('Recall score for linear SVM hard margin: ', recall_score(twenty_test_binary_labels, predicted_svc_1))\n",
    "\n",
    "# F-1 score\n",
    "from sklearn.metrics import f1_score\n",
    "\n",
    "print('F-1 score for linear SVM hard margin:', f1_score(twenty_test_binary_labels, predicted_svc_1))"
   ]
  },
  {
   "cell_type": "code",
   "execution_count": 79,
   "metadata": {},
   "outputs": [
    {
     "name": "stdout",
     "output_type": "stream",
     "text": [
      "Confusion matrix for linear SVM soft margin: \n",
      " [[ 514 1046]\n",
      " [   0 1590]]\n",
      "Accuracy for linear SVM soft margin:  0.6679365079365079\n",
      "Precision score for linear SVM soft margin:  0.6031866464339909\n",
      "Recall score for linear SVM soft margin:  1.0\n",
      "F-1 score for linear SVM soft margin: 0.7524846190250829\n"
     ]
    }
   ],
   "source": [
    "# Find confusion matrix, accuracy, precision-recall, and F-1 scores for the soft margin\n",
    "\n",
    "# Confusion matrix\n",
    "from sklearn.metrics import confusion_matrix\n",
    "\n",
    "print('Confusion matrix for linear SVM soft margin: \\n', confusion_matrix(twenty_test_binary_labels, predicted_svc_2))\n",
    "\n",
    "# Accuracy\n",
    "from sklearn.metrics import accuracy_score\n",
    "\n",
    "print('Accuracy for linear SVM soft margin: ', accuracy_score(twenty_test_binary_labels, predicted_svc_2))\n",
    "\n",
    "# Average precision-recall score\n",
    "from sklearn.metrics import average_precision_score\n",
    "from sklearn.metrics import precision_score\n",
    "from sklearn.metrics import recall_score\n",
    "\n",
    "# print('Average precision-recall score:', average_precision_score(twenty_test.target, predicted))\n",
    "print('Precision score for linear SVM soft margin: ', precision_score(twenty_test_binary_labels, predicted_svc_2))\n",
    "print('Recall score for linear SVM soft margin: ', recall_score(twenty_test_binary_labels, predicted_svc_2))\n",
    "\n",
    "# F-1 score\n",
    "from sklearn.metrics import f1_score\n",
    "\n",
    "print('F-1 score for linear SVM soft margin:', f1_score(twenty_test_binary_labels, predicted_svc_2))"
   ]
  },
  {
   "cell_type": "code",
   "execution_count": 80,
   "metadata": {},
   "outputs": [
    {
     "data": {
      "image/png": "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\n",
      "text/plain": [
       "<Figure size 432x288 with 1 Axes>"
      ]
     },
     "metadata": {
      "needs_background": "light"
     },
     "output_type": "display_data"
    }
   ],
   "source": [
    "# ROC curve for hard margin SVM\n",
    "\n",
    "from sklearn.metrics import roc_curve\n",
    "\n",
    "score_svc_1 = clf_svc_1.decision_function(X_lsi_test_reduced)\n",
    "fpr_svc_1, tpr_svc_1, thresholds_svc_1 = roc_curve(twenty_test_binary_labels, score_svc_1)\n",
    "\n",
    "plt.figure()\n",
    "plt.plot(fpr_svc_1, tpr_svc_1)\n",
    "plt.title('ROC curve for hard margin linear SVM')\n",
    "plt.xlabel('false positive rate for hard margin linear SVM')\n",
    "plt.ylabel('true positive rate for hard margin linear SVM')\n",
    "plt.xlim(left=-0.02)\n",
    "plt.ylim(top=1.02)\n",
    "plt.show()"
   ]
  },
  {
   "cell_type": "code",
   "execution_count": 81,
   "metadata": {},
   "outputs": [
    {
     "data": {
      "image/png": "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\n",
      "text/plain": [
       "<Figure size 432x288 with 1 Axes>"
      ]
     },
     "metadata": {
      "needs_background": "light"
     },
     "output_type": "display_data"
    }
   ],
   "source": [
    "# ROC curve for soft margin SVM\n",
    "\n",
    "from sklearn.metrics import roc_curve\n",
    "\n",
    "score_svc_2 = clf_svc_2.decision_function(X_lsi_test_reduced)\n",
    "fpr_svc_2, tpr_svc_2, thresholds_svc_2 = roc_curve(twenty_test_binary_labels, score_svc_2)\n",
    "\n",
    "plt.figure()\n",
    "plt.plot(fpr_svc_2, tpr_svc_2)\n",
    "plt.title('ROC curve for soft margin linear SVM')\n",
    "plt.xlabel('false positive rate for soft margin linear SVM')\n",
    "plt.ylabel('true positive rate for soft margin linear SVM')\n",
    "plt.xlim(left=-0.02)\n",
    "plt.ylim(top=1.02)\n",
    "plt.show()"
   ]
  },
  {
   "cell_type": "markdown",
   "metadata": {},
   "source": [
    " **Hard Margin SVM is better because accuracy for hard margin is 97% whereas it is 66% for soft margin**"
   ]
  },
  {
   "cell_type": "code",
   "execution_count": 111,
   "metadata": {},
   "outputs": [
    {
     "name": "stderr",
     "output_type": "stream",
     "text": [
      "/Users/akash/Documents/coding/Project1/.env/lib/python3.7/site-packages/sklearn/metrics/classification.py:1143: UndefinedMetricWarning: F-score is ill-defined and being set to 0.0 in labels with no predicted samples.\n",
      "  'precision', 'predicted', average, warn_for)\n",
      "/Users/akash/Documents/coding/Project1/.env/lib/python3.7/site-packages/sklearn/metrics/classification.py:1143: UndefinedMetricWarning: F-score is ill-defined and being set to 0.0 in labels with no predicted samples.\n",
      "  'precision', 'predicted', average, warn_for)\n",
      "/Users/akash/Documents/coding/Project1/.env/lib/python3.7/site-packages/sklearn/metrics/classification.py:1143: UndefinedMetricWarning: F-score is ill-defined and being set to 0.0 in labels with no predicted samples.\n",
      "  'precision', 'predicted', average, warn_for)\n",
      "/Users/akash/Documents/coding/Project1/.env/lib/python3.7/site-packages/sklearn/metrics/classification.py:1143: UndefinedMetricWarning: F-score is ill-defined and being set to 0.0 in labels with no predicted samples.\n",
      "  'precision', 'predicted', average, warn_for)\n",
      "/Users/akash/Documents/coding/Project1/.env/lib/python3.7/site-packages/sklearn/metrics/classification.py:1143: UndefinedMetricWarning: F-score is ill-defined and being set to 0.0 in labels with no predicted samples.\n",
      "  'precision', 'predicted', average, warn_for)\n",
      "/Users/akash/Documents/coding/Project1/.env/lib/python3.7/site-packages/sklearn/metrics/classification.py:1143: UndefinedMetricWarning: F-score is ill-defined and being set to 0.0 in labels with no predicted samples.\n",
      "  'precision', 'predicted', average, warn_for)\n",
      "/Users/akash/Documents/coding/Project1/.env/lib/python3.7/site-packages/sklearn/metrics/classification.py:1143: UndefinedMetricWarning: F-score is ill-defined and being set to 0.0 in labels with no predicted samples.\n",
      "  'precision', 'predicted', average, warn_for)\n",
      "/Users/akash/Documents/coding/Project1/.env/lib/python3.7/site-packages/sklearn/metrics/classification.py:1143: UndefinedMetricWarning: F-score is ill-defined and being set to 0.0 in labels with no predicted samples.\n",
      "  'precision', 'predicted', average, warn_for)\n",
      "/Users/akash/Documents/coding/Project1/.env/lib/python3.7/site-packages/sklearn/metrics/classification.py:1143: UndefinedMetricWarning: F-score is ill-defined and being set to 0.0 in labels with no predicted samples.\n",
      "  'precision', 'predicted', average, warn_for)\n",
      "/Users/akash/Documents/coding/Project1/.env/lib/python3.7/site-packages/sklearn/metrics/classification.py:1143: UndefinedMetricWarning: F-score is ill-defined and being set to 0.0 in labels with no predicted samples.\n",
      "  'precision', 'predicted', average, warn_for)\n",
      "/Users/akash/Documents/coding/Project1/.env/lib/python3.7/site-packages/sklearn/metrics/classification.py:1143: UndefinedMetricWarning: F-score is ill-defined and being set to 0.0 in labels with no predicted samples.\n",
      "  'precision', 'predicted', average, warn_for)\n",
      "/Users/akash/Documents/coding/Project1/.env/lib/python3.7/site-packages/sklearn/metrics/classification.py:1143: UndefinedMetricWarning: F-score is ill-defined and being set to 0.0 in labels with no predicted samples.\n",
      "  'precision', 'predicted', average, warn_for)\n",
      "/Users/akash/Documents/coding/Project1/.env/lib/python3.7/site-packages/sklearn/metrics/classification.py:1143: UndefinedMetricWarning: F-score is ill-defined and being set to 0.0 in labels with no predicted samples.\n",
      "  'precision', 'predicted', average, warn_for)\n",
      "/Users/akash/Documents/coding/Project1/.env/lib/python3.7/site-packages/sklearn/metrics/classification.py:1143: UndefinedMetricWarning: F-score is ill-defined and being set to 0.0 in labels with no predicted samples.\n",
      "  'precision', 'predicted', average, warn_for)\n",
      "/Users/akash/Documents/coding/Project1/.env/lib/python3.7/site-packages/sklearn/metrics/classification.py:1143: UndefinedMetricWarning: F-score is ill-defined and being set to 0.0 in labels with no predicted samples.\n",
      "  'precision', 'predicted', average, warn_for)\n"
     ]
    },
    {
     "name": "stdout",
     "output_type": "stream",
     "text": [
      "Best value of C: \n",
      "\n",
      "{'C': 1000}\n",
      "\n",
      "Grid scores: \n",
      "\n",
      "0.335 (+/-0.000) for {'C': 0.001}\n",
      "0.336 (+/-0.002) for {'C': 0.01}\n",
      "0.966 (+/-0.008) for {'C': 0.1}\n",
      "0.971 (+/-0.008) for {'C': 1}\n",
      "0.974 (+/-0.007) for {'C': 10}\n",
      "0.974 (+/-0.006) for {'C': 100}\n",
      "0.974 (+/-0.007) for {'C': 1000}\n",
      "\n"
     ]
    }
   ],
   "source": [
    "# Cross validation to choose best gamma for the Linear SVM\n",
    "import statistics\n",
    "from sklearn.model_selection import train_test_split\n",
    "from sklearn.model_selection import GridSearchCV\n",
    "from sklearn.metrics import classification_report\n",
    "from sklearn.svm import SVC\n",
    "\n",
    "# Reference: https://scikit-learn.org/stable/auto_examples/model_selection/plot_grid_search_digits.html\n",
    "\n",
    "# Set the parameters to be determined by cross-validation\n",
    "tuned_parameters = {'C': [0.001, 0.01, 0.1 , 1, 10, 100, 1000]}\n",
    "\n",
    "# We are using the F1 score to determine the best value of gamma (C) for the linear SVM classifier\n",
    "\n",
    "for score in scores:\n",
    "    clf_svc_cv = GridSearchCV(SVC(kernel='linear'), tuned_parameters, cv=5, scoring= 'f1_macro')\n",
    "    clf_svc_cv.fit(X_lsi_train_reduced, twenty_train_binary_labels)\n",
    "\n",
    "    print(\"Best value of C: \")\n",
    "    print()\n",
    "    print(clf_svc_cv.best_params_)\n",
    "    print()\n",
    "    print(\"Grid scores: \")\n",
    "    print()\n",
    "    means = clf_svc_cv.cv_results_['mean_test_score']\n",
    "    stds = clf_svc_cv.cv_results_['std_test_score']\n",
    "    for mean, std, params in zip(means, stds, clf_svc_cv.cv_results_['params']):\n",
    "        print(\"%0.3f (+/-%0.03f) for %r\"\n",
    "              % (mean, std * 2, params))\n",
    "    print()\n"
   ]
  },
  {
   "cell_type": "markdown",
   "metadata": {},
   "source": [
    "**Plotting the ROC curve and report the confusion matrix and calculate the\n",
    "accuracy, recall precision and F-1 score of this best SVM**"
   ]
  },
  {
   "cell_type": "code",
   "execution_count": 94,
   "metadata": {},
   "outputs": [
    {
     "name": "stdout",
     "output_type": "stream",
     "text": [
      "Confusion matrix for the best linear SVM classifier: \n",
      " [[1506   54]\n",
      " [  37 1553]]\n",
      "Accuracy for the best linear SVM classifier:  0.9711111111111111\n",
      "Precision score for the best linear SVM classifier:  0.9663970130678282\n",
      "Recall score for the best linear SVM classifier:  0.9767295597484277\n",
      "F-1 score for the best linear SVM classifier: 0.9715358148263997\n"
     ]
    }
   ],
   "source": [
    "# Find confusion matrix, accuracy, precision-recall, and F-1 scores for the best linear SVM classifier\n",
    "\n",
    "# Confusion matrix\n",
    "from sklearn.metrics import confusion_matrix\n",
    "\n",
    "print('Confusion matrix for the best linear SVM classifier: \\n', confusion_matrix(twenty_test_binary_labels, predicted_svc_1))\n",
    "\n",
    "# Accuracy\n",
    "from sklearn.metrics import accuracy_score\n",
    "\n",
    "print('Accuracy for the best linear SVM classifier: ', accuracy_score(twenty_test_binary_labels, predicted_svc_1))\n",
    "\n",
    "# Average precision-recall score\n",
    "from sklearn.metrics import average_precision_score\n",
    "from sklearn.metrics import precision_score\n",
    "from sklearn.metrics import recall_score\n",
    "\n",
    "# print('Average precision-recall score:', average_precision_score(twenty_test.target, predicted))\n",
    "print('Precision score for the best linear SVM classifier: ', precision_score(twenty_test_binary_labels, predicted_svc_1))\n",
    "print('Recall score for the best linear SVM classifier: ', recall_score(twenty_test_binary_labels, predicted_svc_1))\n",
    "\n",
    "# F-1 score\n",
    "from sklearn.metrics import f1_score\n",
    "\n",
    "print('F-1 score for the best linear SVM classifier:', f1_score(twenty_test_binary_labels, predicted_svc_1))"
   ]
  },
  {
   "cell_type": "code",
   "execution_count": 95,
   "metadata": {},
   "outputs": [
    {
     "data": {
      "image/png": "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\n",
      "text/plain": [
       "<Figure size 432x288 with 1 Axes>"
      ]
     },
     "metadata": {
      "needs_background": "light"
     },
     "output_type": "display_data"
    }
   ],
   "source": [
    "# ROC curve for the best linear SVM classifier\n",
    "\n",
    "from sklearn.metrics import roc_curve\n",
    "\n",
    "score_svc_1 = clf_svc_1.decision_function(X_lsi_test_reduced)\n",
    "fpr_svc_1, tpr_svc_1, thresholds_svc_1 = roc_curve(twenty_test_binary_labels, score_svc_1)\n",
    "\n",
    "plt.figure()\n",
    "plt.plot(fpr_svc_1, tpr_svc_1)\n",
    "plt.title('ROC curve for the best linear SVM classifier')\n",
    "plt.xlabel('false positive rate for the best linear SVM classifier')\n",
    "plt.ylabel('true positive rate for the best linear SVM classifier')\n",
    "plt.xlim(left=-0.02)\n",
    "plt.ylim(top=1.02)\n",
    "plt.show()"
   ]
  },
  {
   "cell_type": "markdown",
   "metadata": {},
   "source": [
    "## Question 5"
   ]
  },
  {
   "cell_type": "code",
   "execution_count": 83,
=======
   "execution_count": 11,
>>>>>>> 7b858fa2f2b7364dd1eb46b0d2b2ad8bdfed507a
   "metadata": {},
   "outputs": [],
   "source": [
    "# Train an unregularized logistic regression classifier.\n",
    "\n",
    "from sklearn.linear_model import LogisticRegression\n",
    "\n",
    "# To be unregularized, we make the inverse of the regularization strength C \n",
    "# to be large to approximate an unregularized classifier.\n",
    "clf = LogisticRegression(random_state=42, C=500, max_iter=100, solver='lbfgs').fit(X_lsi_train_reduced, twenty_train_binary_labels)\n",
    "\n",
    "# score = clf.decision_function(X_lsi_test_reduced)\n",
    "predicted = clf.predict(X_lsi_test_reduced)"
   ]
  },
  {
   "cell_type": "code",
<<<<<<< HEAD
   "execution_count": 84,
=======
   "execution_count": 12,
>>>>>>> 7b858fa2f2b7364dd1eb46b0d2b2ad8bdfed507a
   "metadata": {},
   "outputs": [
    {
     "name": "stdout",
     "output_type": "stream",
     "text": [
      "Confusion matrix: \n",
      " [[1508   52]\n",
      " [  35 1555]]\n",
      "Accuracy:  0.9723809523809523\n",
      "Precision score:  0.9676415681393902\n",
      "Recall score:  0.9779874213836478\n",
      "F-1 score: 0.9727869878010635\n"
     ]
    }
   ],
   "source": [
    "# Find confusion matrix, accuracy, precision-recall, and F-1 scores\n",
    "\n",
    "# Confusion matrix\n",
    "from sklearn.metrics import confusion_matrix\n",
    "\n",
    "print('Confusion matrix: \\n', confusion_matrix(twenty_test_binary_labels, predicted))\n",
    "\n",
    "# Accuracy\n",
    "from sklearn.metrics import accuracy_score\n",
    "\n",
    "print('Accuracy: ', accuracy_score(twenty_test_binary_labels, predicted))\n",
    "\n",
    "# Average precision-recall score\n",
    "from sklearn.metrics import average_precision_score\n",
    "from sklearn.metrics import precision_score\n",
    "from sklearn.metrics import recall_score\n",
    "\n",
    "# print('Average precision-recall score:', average_precision_score(twenty_test.target, predicted))\n",
    "print('Precision score: ', precision_score(twenty_test_binary_labels, predicted))\n",
    "print('Recall score: ', recall_score(twenty_test_binary_labels, predicted))\n",
    "\n",
    "# F-1 score\n",
    "from sklearn.metrics import f1_score\n",
    "\n",
    "print('F-1 score:', f1_score(twenty_test_binary_labels, predicted))"
   ]
  },
  {
   "cell_type": "code",
<<<<<<< HEAD
   "execution_count": 85,
=======
   "execution_count": 13,
>>>>>>> 7b858fa2f2b7364dd1eb46b0d2b2ad8bdfed507a
   "metadata": {},
   "outputs": [
    {
     "data": {
<<<<<<< HEAD
      "image/png": "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\n",
=======
      "image/png": "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\n",
>>>>>>> 7b858fa2f2b7364dd1eb46b0d2b2ad8bdfed507a
      "text/plain": [
       "<Figure size 432x288 with 1 Axes>"
      ]
     },
     "metadata": {
      "needs_background": "light"
     },
     "output_type": "display_data"
    }
   ],
   "source": [
    "# ROC curve\n",
    "\n",
    "from sklearn.metrics import roc_curve\n",
    "\n",
    "score = clf.decision_function(X_lsi_test_reduced)\n",
    "fpr, tpr, thresholds = roc_curve(twenty_test_binary_labels, score)\n",
    "\n",
    "plt.figure()\n",
    "plt.plot(fpr, tpr)\n",
    "plt.title('ROC curve for unregularized logistic regression')\n",
    "plt.xlabel('false positive rate')\n",
    "plt.ylabel('true positive rate')\n",
    "plt.xlim(left=-0.02)\n",
    "plt.ylim(top=1.02)\n",
    "plt.show()"
   ]
  },
  {
   "cell_type": "code",
<<<<<<< HEAD
   "execution_count": 86,
=======
   "execution_count": 14,
>>>>>>> 7b858fa2f2b7364dd1eb46b0d2b2ad8bdfed507a
   "metadata": {},
   "outputs": [
    {
     "name": "stdout",
     "output_type": "stream",
     "text": [
      "Optimal regularization strength for L1 Regulation:  [0.1]\n",
      "Accuracy with L1 Regulation for L1 Regulation:  0.973015873015873\n",
      "Average precision-recall score for L1 Regulation: 0.957519138728885\n",
      "Precision score for L1 Regulation:  0.9665220086794792\n",
      "Recall score for L1 Regulation:  0.980503144654088\n",
      "F-1 score for L1 Regulation: 0.9734623790196691\n"
     ]
    },
    {
     "name": "stderr",
     "output_type": "stream",
     "text": [
<<<<<<< HEAD
      "/Users/akash/Documents/coding/Project1/.env/lib/python3.7/site-packages/sklearn/linear_model/logistic.py:1926: ChangedBehaviorWarning: The long-standing behavior to use the accuracy score has changed. The scoring parameter is now used. This warning will disappear in version 0.22.\n",
=======
      "C:\\Users\\zharr\\AppData\\Local\\Programs\\Python\\Python35\\lib\\site-packages\\sklearn\\linear_model\\logistic.py:1917: ChangedBehaviorWarning: The long-standing behavior to use the accuracy score has changed. The scoring parameter is now used. This warning will disappear in version 0.22.\n",
>>>>>>> 7b858fa2f2b7364dd1eb46b0d2b2ad8bdfed507a
      "  ChangedBehaviorWarning)\n"
     ]
    },
    {
     "data": {
<<<<<<< HEAD
      "image/png": "iVBORw0KGgoAAAANSUhEUgAAAYUAAAEWCAYAAACJ0YulAAAABHNCSVQICAgIfAhkiAAAAAlwSFlzAAALEgAACxIB0t1+/AAAADl0RVh0U29mdHdhcmUAbWF0cGxvdGxpYiB2ZXJzaW9uIDMuMC4yLCBodHRwOi8vbWF0cGxvdGxpYi5vcmcvOIA7rQAAIABJREFUeJzt3XmYHVW57/HvD0JASQhggkpCCDMGVMAwCUpkEhASOAcRvCjIdBwQnDiAHCOCioigF0UxXBFFAwQ8YMRAHJgOCIFwgsEE0TAngAlTTECGwHv/WKt3is3u7kpn197p7t/nefbTNe2qt6p211trrRoUEZiZmQGs0u4AzMxs5eGkYGZmNU4KZmZW46RgZmY1TgpmZlbjpGBmZjVOClaj5KeSnpV0Z7vjWRlIGiUpJA3o4fffJ+n+CuIKSZs2e75dLK/H6yHpOklHNDumlZ2kCyV9pd1xLK9+nxQkPSzpX5KWSHpS0iWSBtVN815JN0haLGmRpN9IGl03zVqSvifp0TyvB3L/0Nau0QrZFdgLGBERO6zozLo6oEraWtI0SU9J6vZmmTyf5/O2nS/pPEmrrmiMVYuI/4mILVq5TEk3STqmmfMsux6STpf0i7rv7hsRP1veZfbWfd4hIj4ZEWe2O47l1e+TQnZARAwCtgG2BU7tGCFpZ+B3wK+B9YGNgD8Dt0naOE8zEPgjsBWwD7AWsDPwNLDCB9fO9PTstQsbAg9HxPMtiOUVYDJw9HJ85915P+0GfAQ4ajmX2VIV7J/+qPJ9nkvIPhZ2iIh+/QEeBvYs9H8b+G2h/3+AHzb43nXAz3P3McA/gEHLsdytgN8Dz+TvfjkPvwT4emG6scC8unhPBmYBL+Xuq+rm/X+B83P3EOAnwBPAfODrwKoN4jkaeBF4FVgCfC0PPxaYm+OcAqxf+E4AnwH+DjzUYJ6j8jQDutgOm6afYbfbK4BNC/2TgQsK/Z2uJ7AqcC7wFPAQcHwxrga/gdOBXzRaB+ATwH3AYuBB4D/q91XeJ08Clxb3H+mgtqTweQm4KY9bHfgO8Gj+PVwIvKkw75Pyuj1OOjC+bnvUbaubgGM6GTcOmA08l6d7R2HcdsDMvG5XAleQf4u88Xd4ct7Oi4H7gT1IJ0QvkxL+EuDPjeLJv6mObTgH2K4N+/wm4BvAbcC/SL/Drua3KXAzsCjP84o8XMB3gQXAP4F7ga07+V/u7n/pk6T/peeACwBVcczr7uPsWCBpBLAvacch6c3Ae0n/IPUmk6paAPYEro+IJSWXMxj4A3A9qfSxKamkUdZhwIeAtYHLgf3yPMnF60OASXnaS4CleRnbAnuTktjrRMRPSD/K2yNiUER8VdLuwFl5fm8HHsnLKzoQ2BEYTYtI2hJ4H3k/ZZfQ+XoeS9qv25AOfAeuwOIXAPuTSoOfAL4rabvC+LcB65JKXccVvxgRV+RtO4i03x8ELsujvwVsnmPcFBgOTMjruw/wJdLvbTPS7225Sdo8L+9zwDBgKvAbSQNzafdq0nZcN093UCfz2YJ0kN0+IgYDHySVMK8Hvkk6YA6KiHc3+O6HSUn346RtOI5Uou4u9ir2+cdI+2gw6bfd1fzOJNUYrAOMAL6fh+8NvJ+074aQ/lfesD4l/5f2B7YH3pWn+2DjrVGxdmSilelDOktcQjprCdLBee08bkQetmWD7+0DvJK7fw98azmWeRgws5Nxl9B9SeGouu/cCnw8d+8FPJC730o6G31T3bJv7GTZRwK3Fvp/Any70D+IdBY4KvcHsHsX6zmK5pYU/gk8n7svA1Yvs57ADbz+jH5PelhSaBDXNcCJhX31MrBGZ/svD1sFuBb4Ue5XXq9NCtPsTC59ARcXf1+kA9BylxSArwCT6+KYn2N8f+5WYfytNCgp5H22IG/H1eqWUdt2jeIBpnVsrzbv85uAMwrju5vfz4GJpPa2Yoy7A38DdgJW6ex/mXL/S7sWxk8GTimznZr9cUkhOTDSGc9YYEugo3H4WeA1Umav93ZSMRLSmUGjaTqzAfBAjyJNHqvrn0T6AQN8lGWlhA2B1YAnJD0n6Tngx8B6JZezPumMBoBIJaGnSWexncVSpe1I/0wfIZVO1szDu1vP9evi7HHMkvaVdIekZ/Jy9mPZ7wVgYUS82M1svkE6Oz0h9w8D3gzcXYj/+jy8UfyP0DP1+/O1PN/hedz8yEekrOF2ioi5pNLG6cACSZdLWr9kDMv7269ynxeHdTe//yQl7zslzZZ0FEBE3AD8gFTds0DSRElrNVhWmf+lJwvdL+T1bjknhYKIuJmU3b+T+58Hbgc+3GDyQ1hW5fMH4IOS1mwwXSOPARt3Mu550gGiw9sahVrXfyUwNld/HcSypPAY6exnaESsnT9rRcRWJeN8nPTPAkBev7eQzig7i6VSkUwm7ZcJeXB36/kEqdTXYYO62ZbZ5khaHfgV6ffx1ohYm1QFo2KIXcUv6VBSAj84Il7Jg58i1WtvVYh/SKRqpo74izGP7GoZXajfn8rznZ+XMTwP61C/nWoiYlJE7JrnF8DZHaO6ieExYJPlCbqifV4fa5fzi4gnI+LYiFgf+A/ghx2XBEfE+RHxHlIV6uak9p96Zf6XVgpOCm/0PWAvSR31oacAR0g6QdJgSetI+jqpeP+1PM2lpB/VryRtKWkVSW+R9GVJ+zVYxrXA2yV9TtLqeb475nH3kNoI1pX0NtIZWZciYiGpOPxTUpXDfXn4E6R60HPzJbOrSNpE0m4lt8VlwCckbZMPiN8EpkfEwyW/32F1SWsUPqvkKz7WAAYC5OGrL8c8vwUcK+ltJdZzMnCipOGS1iY1khbdAxwqaTVJY4CDO1nmQFKD8EJgqaR9SXXKpUjallQXfWDeZ0DtjP0iUvvEenna4ZI66pQnA0dKGp3bub5aYnED6rb5ank+H5K0R+7/IulA+CfSAfdV4HhJAySNp5Mr5yRtIWn3vL9eJCW01/LofwCjuria5/8BX5L0nvwb2FTShp1MW6+Z+/x1upufpA/nky5INQgBvCZpe0k75u35fN4erzVYRLP+lyrnpFAn/7P+nHxGEhG3khp8/o109vEIqRFq14j4e57mJVKd5V9J7Qv/BO4kVStMb7CMxaS6/wNIRca/Ax/Ioy8lXfL6MOlHekXJ0CflGCbVDf846WA2h/RjvoqSVV0R8QdSPfSvSOu+CXBoyXiKlpAOHB2f3UlnTf8iXQlD7i59c1RE3AvcwrKzsq7W8yLStpxFurpmKqlB8dU8/iukdXuWlOjrt2HHMheTqnwm52k/SrqKpKzxpIbKW5WuvV8i6bo87mRSI+odkv5JKn1ukZd7Helk5YY8zQ0llvUjXr/NfxoR9wOHkxLTU6Tf3wER8XJEvEz6jR9NuvrlcNLJy0sN5r066QD9FOn3ux7LLuPuuCjjaUn/W//FiLiSVH02idSOdw2pYbtbTd7njXQ1v+2B6ZKWkPb5iRHxIKmx/KI8/SOkKqFzGsTerP+lyun1VYhmfV8+w78wIsqeofZLkqaTttNP2x3LivI+L88lBevzJL1J0n65WmQ4qfrl6nbHtbKRtJukt+XtdATp0sjr2x1XT3if95yTgvUHIlULPUuqSriPZQ2WtswWpKrL50jtDQfnuvbeyPu8h1x9ZGZmNS4pmJlZTa97YNfQoUNj1KhR7Q7DzKxXufvuu5+KiGHdTdfrksKoUaOYMWNGu8MwM+tVJJW6E97VR2ZmVuOkYGZmNU4KZmZW46RgZmY1TgpmZlZTWVKQdLGkBZL+0sl4STpf0lxJs/T6t1eZmVkbVFlSuIT0drLO7Et6teBmpFfi/ajCWMzMrITK7lOIiFskjepikvGkF98H6XHBa0t6ey9+1krTTJr+KL++Z6V794aZtdHo9dfiqweUfT9Wz7Xz5rXhvP51ePPysDckBUnHkV+CPnJkT1861XOtPkhPf+gZAHbcqNRj5s3MmqZX3NEcERNJL81mzJgxTX2CX5kDfqsP0jtutC7jtxnOR3dsfQI0s/6tnUlhPq9/b+oIWvC+0vokUOaA74O0mfUX7UwKU0jvg70c2BFYVFV7QjER1CcBH/DNzJapLClIugwYCwyVNI/05qPVACLiQtI7U/cjvXP2BeATzY6hIxkUE4GTgJlZ56q8+uiwbsYH8Jmqlj9p+qN8+ep7AZcGzMzK6hUNzcurmBC+edA7nQzMzErqc4+5cEIwM+u5PpcUOhqUnRDMzJZfn0oKk6Y/yvSHnmHHjdZ1QjAz64E+lRQ6Sgnjtxne5kjMzHqnPpUUAJcSzMxWQJ9LCmZm1nNOCmZmVtNnkkJHI7OZmfVcn0kKbmQ2M1txfSYpgBuZzcxWVJ9ICq46MjNrjj6RFFx1ZGbWHH0iKYCrjszMmqHPJAUzM1txTgpmZlbjpGBmZjVOCmZmVuOkYGZmNU4KZmZW0+uTgm9cMzNrnl6fFHzjmplZ8/T6pAC+cc3MrFn6RFIwM7PmcFIwM7MaJwUzM6txUjAzsxonBTMzq3FSMDOzGicFMzOrcVIwM7OaSpOCpH0k3S9prqRTGowfKelGSTMlzZK0X5XxmJlZ1ypLCpJWBS4A9gVGA4dJGl032X8BkyNiW+BQ4IdVxWNmZt2rsqSwAzA3Ih6MiJeBy4HxddMEsFbuHgI8XmE8ZmbWjSqTwnDgsUL/vDys6HTgcEnzgKnAZxvNSNJxkmZImrFw4cIqYjUzM9rf0HwYcElEjAD2Ay6V9IaYImJiRIyJiDHDhg2rDfdjs83MmqvKpDAf2KDQPyIPKzoamAwQEbcDawBDyy7Aj802M2uuKpPCXcBmkjaSNJDUkDylbppHgT0AJL2DlBSWq37Ij802M2ueypJCRCwFjgemAfeRrjKaLekMSePyZF8EjpX0Z+Ay4MiIiKpiMjOzrg2ocuYRMZXUgFwcNqHQPQfYpcoYzMysvHY3NJuZ2UrEScHMzGqcFMzMrMZJwczManptUvCNa2Zmzddrk4JvXDMza75emxTAN66ZmTVbr04KZmbWXE4KZmZW46RgZmY1TgpmZlbjpGBmZjXdJgUlh0uakPtHStqh+tDMzKzVypQUfgjsTHpLGsBi4ILKIjIzs7Yp8+jsHSNiO0kzASLi2fzSHDMz62PKlBRekbQqEACShgGvVRqVmZm1RZmkcD5wNbCepG8AtwJnVRqVmZm1RbfVRxHxS0l3k96lLODAiLiv8sjMzKzluk0Kki6NiI8Bf20wzMzM+pAy1UdbFXty+8J7qgnHzMzaqdOkIOlUSYuBd0n6p6TFuX8B8OuWRWhmZi3TaVKIiLMiYjBwTkSsFRGD8+ctEXFqC2M0M7MWKdPQfKqkdYDNgDUKw2+pMjAzM2u9Mg3NxwAnAiOAe4CdgNuB3asNzczMWq1MQ/OJwPbAIxHxAWBb4LlKozIzs7YokxRejIgXASStHhF/BbaoNiwzM2uHMs8+midpbeAa4PeSngUeqTYsMzNrhzINzQflztMl3QgMAa6vNCozM2uLLpNCvlFtdkRsCRARN7ckKjMza4su2xQi4lXgfkkjWxSPmZm1UZmG5nWA2ZL+KGlKx6fMzCXtI+l+SXMlndLJNIdImiNptqRJyxO8mZk1V5mG5q/0ZMa56ukCYC9gHnCXpCkRMacwzWbAqcAu+eU96/VkWWZm1hxlGpp72o6wAzA3Ih4EkHQ5MB6YU5jmWOCCiHg2L2tBD5dlZmZNUKb6qKeGA48V+uflYUWbA5tLuk3SHZL2aTQjScdJmiFpxsKFCysK18zMqkwKZQwgPVNpLHAYcFG+J+J1ImJiRIyJiDHDhg1rcYhmZv1HqaQg6U2Slvcu5vnABoX+EXlY0TxgSkS8EhEPAX8jJQkzM2uDbpOCpANID8K7PvdvU/Lqo7uAzSRtJGkgcChQ/71rSKUEJA0lVSc9WDp6MzNrqjIlhdNJjcbPAUTEPcBG3X0pIpYCxwPTgPuAyRExW9IZksblyaYBT0uaA9wInBQRTy/3WpiZWVOUuST1lYhYJKk4LMrMPCKmAlPrhk0odAfwhfwxM7M2K5MUZkv6KLBqvq/gBOBP1YZlZmbtUKb66LPAVsBLwCRgEfC5KoMyM7P2KFNS2DIiTgNOqzoYMzNrrzIlhXMl3SfpTElbVx6RmZm1TbdJIb+C8wPAQuDHku6V9F+VR2ZmZi1X6ua1iHgyIs4HPkm6Z2FCN18xM7NeqMzNa++QdLqke4Hvk648GlF5ZGZm1nJlGpovBq4APhgRj1ccj5mZtVGZR2fv3IpAzMys/TpNCpImR8QhudqoeAezSDcjv6vy6MzMrKW6KimcmP/u34pAzMys/TptaI6IJ3LnpyPikeIH+HRrwjMzs1Yqc0nqXg2G7dvsQMzMrP26alP4FKlEsLGkWYVRg4Hbqg7MzMxar6s2hUnAdcBZwCmF4Ysj4plKozIzs7boKilERDws6TP1IySt68RgZtb3dFdS2B+4m3RJavEtOwFsXGFcZmbWBp0mhYjYP//t9tWbZmbWN5R59tEuktbM3YdLOk/SyOpDMzOzVitzSeqPgBckvRv4IvAAcGmlUZmZWVuUSQpLIyKA8cAPIuIC0mWpZmbWx5R5SupiSacCHwPeJ2kVYLVqwzIzs3YoU1L4CPAScFREPEl6l8I5lUZlZmZtUeZ1nE8CvwSGSNofeDEifl55ZGZm1nJlrj46BLgT+DBwCDBd0sFVB2ZmZq1Xpk3hNGD7iFgAIGkY8AfgqioDMzOz1ivTprBKR0LIni75PTMz62XKlBSulzQNuCz3fwSYWl1IZmbWLmXe0XySpH8Dds2DJkbE1dWGZWZm7VCmpADwJ+BV4DXgrurCMTOzdipz9dExpKuPDgIOBu6QdFTVgZmZWeuVaTA+Cdg2Io6MiCOA9wAnl5m5pH0k3S9prqRTupju3yWFpDHlwjYzsyqUSQpPA4sL/YvzsC5JWhW4gPQ+59HAYZJGN5huMHAiML1MwGZmVp0ybQpzSTes/Zr0cp3xwCxJXwCIiPM6+d4OwNyIeBBA0uX5u3PqpjsTOJtUIjEzszYqU1J4ALiGlBAAfg08RHpSaldPSx0OPFbon5eH1UjaDtggIn7bVQCSjpM0Q9KMhQsXlgjZzMx6oswlqV+rYsH5aavnAUeWiGEiMBFgzJgx0c3kZmbWQ1XemTwf2KDQPyIP6zAY2Bq4SdLDwE7AFDc2m5m1T5VJ4S5gM0kbSRoIHApM6RgZEYsiYmhEjIqIUcAdwLiImFFhTGZm1oXKkkJELAWOB6YB9wGTI2K2pDMkjatquWZm1nPdtilI2pz0nua3RsTWkt5FOqP/enffjYip1D0nKSImdDLt2FIRm5lZZcqUFC4CTgVeAYiIWaSqIDMz62PKJIU3R8SddcOWVhGMmZm1V5mk8JSkTcj3KeS3rj1RaVRmZtYWZe5o/gzpHoEtJc0n3bh2eKVRmZlZW5S5ee1BYE9Ja5Lewra4u++YmVnvVObqowl1/QBExBkVxWRmZm1Spvro+UL3GsD+pPsOzMysjylTfXRusV/Sd0g3pJmZWR/Tkzua30x6jpGZmfUxZdoU7mXZY7NXBYYBbk8wM+uDyrQp7F/oXgr8Iz/XyMzM+pguk0J+pea0iNiyRfGYmVkbddmmEBGvAvdLGtmieMzMrI3KVB+tA8yWdCeFy1Mjwo+/NjPrY8okha9UHoWZma0UyiSF/SLi5OIASWcDN1cTkpmZtUuZ+xT2ajBs32YHYmZm7ddpSUHSp4BPAxtLmlUYNRi4rerAzMys9bqqPpoEXAecBZxSGL44Ip6pNCozM2uLTpNCRCwCFgGHtS4cMzNrp548+8jMzPooJwUzM6txUjAzsxonBTMzq3FSMDOzGicFMzOrcVIwM7MaJwUzM6txUjAzsxonBTMzq6k0KUjaR9L9kuZKOqXB+C9ImiNplqQ/StqwynjMzKxrlSWF/H7nC0iP2R4NHCZpdN1kM4ExEfEu4Crg21XFY2Zm3auypLADMDciHoyIl4HLgfHFCSLixoh4IffeAYyoMB4zM+tGlUlhOPBYoX9eHtaZo0mP6n4DScdJmiFpxsKFC5sYopmZFa0UDc2SDgfGAOc0Gh8REyNiTESMGTZsWGuDMzPrR8q8o7mn5gMbFPpH5GGvI2lP4DRgt4h4qcJ4zMysG1WWFO4CNpO0kaSBwKHAlOIEkrYFfgyMi4gFFcZiZmYlVJYUImIpcDwwDbgPmBwRsyWdIWlcnuwcYBBwpaR7JE3pZHZmZtYCVVYfERFTgal1wyYUuvescvlmZrZ8VoqGZjMzWzk4KZiZWY2TgpmZ1TgpmJlZjZOCmZnVOCmYmVmNk4KZmdU4KZiZWY2TgpmZ1TgpmJlZjZOCmZnVOCmYmVmNk4KZmdU4KZiZWY2TgpmZ1TgpmJlZjZOCmZnVOCmYmVmNk4KZmdU4KZiZWY2TgpmZ1TgpmJlZjZOCmZnVOCmYmVmNk4KZmdU4KZiZWY2TgpmZ1TgpmJlZjZOCmZnVOCmYmVmNk4KZmdVUmhQk7SPpfklzJZ3SYPzqkq7I46dLGlVlPGZm1rXKkoKkVYELgH2B0cBhkkbXTXY08GxEbAp8Fzi7qnjMzKx7VZYUdgDmRsSDEfEycDkwvm6a8cDPcvdVwB6SVGFMZmbWhQEVzns48Fihfx6wY2fTRMRSSYuAtwBPFSeSdBxwHMDIkSMBGL3+WpUEbWbWn1WZFJomIiYCEwHGjBkTAF89YKu2xmRm1hdVWX00H9ig0D8iD2s4jaQBwBDg6QpjMjOzLlSZFO4CNpO0kaSBwKHAlLpppgBH5O6DgRsiIiqMyczMulBZ9VFuIzgemAasClwcEbMlnQHMiIgpwE+ASyXNBZ4hJQ4zM2uTStsUImIqMLVu2IRC94vAh6uMwczMyvMdzWZmVuOkYGZmNU4KZmZW46RgZmY16m1XgEpaCDySe4dSd/dzP9Kf1x369/p73funFV33DSNiWHcT9bqkUCRpRkSMaXcc7dCf1x369/p73b3uVXL1kZmZ1TgpmJlZTW9PChPbHUAb9ed1h/69/l73/qkl696r2xTMzKy5entJwczMmshJwczManpFUpC0j6T7Jc2VdEqD8atLuiKPny5pVOujrEaJdf+CpDmSZkn6o6QN2xFnFbpb98J0/y4pJPWZSxXLrLukQ/K+ny1pUqtjrFKJ3/1ISTdKmpl/+/u1I85mk3SxpAWS/tLJeEk6P2+XWZK2a3oQEbFSf0iP3X4A2BgYCPwZGF03zaeBC3P3ocAV7Y67hev+AeDNuftT/Wnd83SDgVuAO4Ax7Y67hft9M2AmsE7uX6/dcbd4/ScCn8rdo4GH2x13k9b9/cB2wF86Gb8fcB0gYCdgerNj6A0lhR2AuRHxYES8DFwOjK+bZjzws9x9FbCHJLUwxqp0u+4RcWNEvJB77yC94a4vKLPfAc4EzgZebGVwFSuz7scCF0TEswARsaDFMVapzPoH0PGi9iHA4y2MrzIRcQvp3TKdGQ/8PJI7gLUlvb2ZMfSGpDAceKzQPy8PazhNRCwFFgFvaUl01Sqz7kVHk84i+oJu1z0XnTeIiN+2MrAWKLPfNwc2l3SbpDsk7dOy6KpXZv1PBw6XNI/0zpbPtia0tlveY8Jyq/QlO9Y6kg4HxgC7tTuWVpC0CnAecGSbQ2mXAaQqpLGk0uEtkt4ZEc+1NarWOQy4JCLOlbQz6Q2OW0fEa+0OrLfrDSWF+cAGhf4ReVjDaSQNIBUnn25JdNUqs+5I2hM4DRgXES+1KLaqdbfug4GtgZskPUyqX53SRxqby+z3ecCUiHglIh4C/kZKEn1BmfU/GpgMEBG3A2uQHhjX15U6JqyI3pAU7gI2k7SRpIGkhuQpddNMAY7I3QcDN0Rulenlul13SdsCPyYlhL5Ur9zlukfEoogYGhGjImIUqT1lXETMaE+4TVXmN38NqZSApKGk6qQHWxlkhcqs/6PAHgCS3kFKCgtbGmV7TAE+nq9C2glYFBFPNHMBK331UUQslXQ8MI10VcLFETFb0hnAjIiYAvyEVHycS2qkObR9ETdPyXU/BxgEXJnb1h+NiHFtC7pJSq57n1Ry3acBe0uaA7wKnBQRfaF0XHb9vwhcJOnzpEbnI/vCiaCky0jJfmhuL/kqsBpARFxIaj/ZD5gLvAB8oukx9IHtaGZmTdIbqo/MzKxFnBTMzKzGScHMzGqcFMzMrMZJwczMapwUbKUm6QRJ90n6ZRfTjJV0bSvj6oykcR1P9ZR0oKTRhXFn5BsNWxXLWEnvbdXyrG9Y6e9TsH7v08CeETGv3YGUka+h77iH4kDgWmBOHjeh2cuTNCA/76uRscAS4E/NXq71XS4p2EpL0oWkxydfJ+nzknaQdHt+hv6fJG3R4Du7Sbonf2ZKGpyHnyTprvwM+q91srwlkr6b30/wR0nD8vBt8kPnZkm6WtI6efgJWvYui8vzsCMl/SCfoY8DzsmxbCLpEkkH53cFXFlYbq2kI2nvvI7/K+lKSYMaxHmTpO9JmgGcKOkApfeIzJT0B0lvVXqnyCeBz+flv0/SMEm/ytvhLkm7rMDusb6q3c8P98efrj7Aw8DQ3L0WMCB37wn8KnePBa7N3b8Bdsndg0il4b1Jz98X6UToWuD9DZYVwP/J3ROAH+TuWcBuufsM4Hu5+3Fg9dy9dv57ZOF7lwAHF+Z/CekxLANIj2lYMw//EXA46dk9txSGnwxMaBDnTcAPC/3rsOxG1GOAc3P36cCXCtNNAnbN3SOB+9q9f/1Z+T6uPrLeZAjwM0mbkQ7gqzWY5jbgvNwG8d8RMU/S3qTEMDNPM4j08Lhb6r77GnBF7v4F8N+ShpAO+Dfn4T8DOs7yZwG/lHQN6VlEpUR6jMP1wAGSrgI+BPwn6Qm3o4Hb8iNLBgK3dzKbKwrdI4ArlJ6rPxB4qJPv7AmM1rJXjawlaVBELCkbu/V9TgrWm5wJ3BgRB+XqkZvqJ4iIb0n6Len5MLdJ+iCphHBWRPx4OZfX3TNgPkR6U9YBwGmS3rkc874cOJ70rK4ZEbFY6Wj9+4g4rMT3ny90fx84LyKmSBpLKiE0sgqwU0T0pRcSWZO5TcF6kyEse0zwkY0mkLRJRNwbEWeTnra5JenBakeSay/VAAABIUlEQVR11M9LGi5pvQZfX4VUvQPwUeDWiFgEPCvpfXn4x4Cbld7nsEFE3Eiq5hlCKoEULSY94ruRm0mvXTyWlCAgPel1F0mb5jjXlLR5J98vKm6XIwrD65f/Owovo5G0TYl5Wz/jpGC9ybeBsyTNpPNS7uck/UXSLOAV4LqI+B2pPv12SfeSXtna6GD9PLCD0kvTdye1H0A60J6T57lNHr4q8Is8v5nA+fHGF9xcDpyUG4A3KY6IiFdJbRv75r9ExEJSsrssL+t2UlLrzumkp+TeDTxVGP4b4KCOhmbgBGBMbhifQ2qINnsdPyXVLJO0JCLecLWPWX/ikoKZmdW4pGBmZjUuKZiZWY2TgpmZ1TgpmJlZjZOCmZnVOCmYmVnN/weHPD9MvcW64QAAAABJRU5ErkJggg==\n",
=======
      "image/png": "iVBORw0KGgoAAAANSUhEUgAAAYUAAAEWCAYAAACJ0YulAAAABHNCSVQICAgIfAhkiAAAAAlwSFlzAAALEgAACxIB0t1+/AAAADl0RVh0U29mdHdhcmUAbWF0cGxvdGxpYiB2ZXJzaW9uIDMuMC4wLCBodHRwOi8vbWF0cGxvdGxpYi5vcmcvqOYd8AAAIABJREFUeJzt3XmYHVW57/HvLwlhkDCZoJCBMGPgegAjoOAhMhkQEvFBBC8KMh0HBIeDgCgiDiiIKEcU41FBNEDAI0QEcWCSIYFwgABBrpExDBIGYwAZAu/9Y60uKju7uyudXXunO7/P8/TTNe2qd1XtXW/VWjUoIjAzMwMY1OkAzMxs+eGkYGZmBScFMzMrOCmYmVnBScHMzApOCmZmVnBSsIKSn0l6VtItnY5neSBprKSQNKSPn3+XpPtqiCskbdLq+fawvD6XQ9KVkg5udUzLO0nnSPpSp+NYWit8UpD0oKR/SXpO0hOSzpW0esM075R0taSFkhZI+o2kcQ3TrCHpu5IezvOam/uHt7dEy2QnYHdgVERst6wz62mHKmkrSVdJekpSrzfL5Pk8n9fto5K+I2nwssZYt4j4c0Rs3s5lSrpW0uGtnGfVckg6WdIvGj67Z0Sct7TL7K/bvEtEfCwivtrpOJbWCp8Usn0iYnVga2Ab4ISuEZLeAfweuAxYH9gQuBO4UdJGeZqhwJ+ALYGJwBrAO4GngWXeuXanr0evPdgAeDAinm9DLK8A04DDluIz/5a3087AB4FDl3KZbVXD9lkR1b7N8xmy94VdImKF/gMeBHYr9Z8G/LbU/2fgB00+dyXw89x9OPB3YPWlWO6WwB+AZ/Jnv5CHnwt8rTTdBGBeQ7zHAbOBl4AvApc0zPt7wFm5e03gJ8DjwKPA14DBTeI5DHgReBV4DvhKHn4EMDfHOR1Yv/SZAD4J/BV4oMk8x+ZphvSwHjZJX8Ne11cAm5T6pwFnl/q7LScwGDgDeAp4ADiqHFeT78DJwC+alQH4KHAvsBC4H/iPxm2Vt88TwPnl7UfaqT1X+nsJuDaPWxn4NvBw/j6cA6xamvexuWyPkXaMi62PhnV1LXB4N+MmAfcA/8jTvaU0blvg9ly2i4GLyN9FlvweHpfX80LgPmBX0gHRy6SE/xxwZ7N48neqax3OAbbtwDa/Fvg6cCPwL9L3sKf5bQJcByzI87woDxdwJvBkHjcb2Kqb33Jvv6WPkX5LzwJnA6pjn9frb60TC12e/ijtEIBRwF3A93L/aqSd5LubfO6jwOO5+0LgvKVY5rD8xfscsEru376bL1Ljj/FB4A5gNLAq6ej+BWCN0o/hcWCH3H8p8CPgDcC6wC2UdmQNcR0C3FDq3yX/ALYl7bT+C7i+4Yv8B2AdSjuw0vix1JAUgC1yGT9TGt9tOfOPbU7evmsDf6TvSeG9wMakncHOed1vW9pWi4Bv5fW1auP2Ky1jDdKOsSvG75J2FOvk78NvgFPzuImkRLFVLt9U+pAUgM2A50lVhCsBnyftpIbmv4eAY/K495N28EskBWBz4BHyTi2vo40b112zeIAPkHa4b8/rcBNggw5s82tJCXhLYEguc0/zuwA4kVS7sgqwUx7+HuA2YK1cnrcA6zX+lqn2W7o8z2cMMB+Y2K794GLrvRMLXZ7+SDuE50hHLUGqBlorjxuVh23R5HMTgVdy9x+Aby7FMg8Ebu9mXPFFyv3Fj7EU76ENn7kB+Eju3h34W+5+E+lodNWGZV/TzbIPYfGk8BPgtFL/6qSjwLG5P4BdeijnWFqbFP5J2qlF/pGuXKWcwNUsfkS/G31MCk3iuhQ4prStXgZW6W775WGD8g7gh7lfuVwbl6Z5B/nsC/hp+ftF2rn3JSl8CZjWEMejOcZ/z90qjb+B5klhE9KR8W7ASg3LKNZds3iAq7rWV4e3+bXAKaXxvc3v58AUUntbOcZdgP8H7AAM6u63TLXf0k6l8dOA46usp1b/uR4teV9EDCN98bcAuhqHnwVeA9Zr8pn1SJkfUttBs2m6Mxr4W58iTR5p6J9K+gIDfCj3QzqLWAl4XNI/JP2DdCS0bsXlrE86egQgIp4jlXVkD7HUaVvSj+mDwPakIzrovZzrN8TZ55gl7SlphqRn8nL24vXvC8D8iHixl9l8nXQ2cHTuH0E6K72tFP/v8vBm8T9E3zRuz9fyfEfmcY9G3iNlTddTRMwFPk1KAE9KulDS+hVjWNrvfp3bvDyst/l9npS8b5F0j6RDASLiauD7pOqev0uaImmNJsuq8lt6otT9Qi532zkplETEdaTs/u3c/zxwM+mUt9H+pLMKSKem75H0hibTNfMIqQqimedJO4gub24WakP/xcAESaOAfXk9KTxCOvoZHhFr5b81ImLLinE+RvqxAJDL90bSEWV3sdQqkmmk7XJSHtxbOR8nnfV1Gd0w2yrrHEkrA78ifT/eFBFrAVeQdhZFiD3FL+kAUgLfLyJeyYOfItVrb1mKf81IDaxd8ZdjHtPTMnrQuD2V5/toXsbIPKxL43oqRMTUiNgpzy9IVWbQ+/ehp+9+d8uqY5s3xtrj/CLiiYg4IiLWB/4D+EHXJcERcVZEvI1UFbUZqf2nUZXf0nLBSWFJ3wV2l7R17j8eOFjS0ZKGSVpb0tdIp/dfydOcT/pS/UrSFpIGSXqjpC9I2qvJMi4H3izp05JWzvPdPo+7A9hL0jqS3kw6IutRRMwnnQ7/jFTlcG8e/jjpyqkz8iWzgyRtLGnniutiKvBRSVvnHeI3gJkR8WDFz3dZWdIqpb9B+YqPVUh12eThKy/FPL8JHCnpzRXKOQ04RtJISWuRGknL7gAOkLSSpPHAft0scyipPng+sEjSnsAeVQOWtA2pLvl9eZsBxRH7j4EzJa2bpx0p6T2l+A+RNE7SasCXKyxuSMM6XynP572Sds39nyPtCG8i7XBfBY6SNETSZLq5ck7S5pJ2ydvrRVJCezWP/jswtoeref4b+E9Jb8vfgU0kbdDNtI1auc0X09v8JH0gH3RBqkEI4FVJb5e0fV6fz/P6xRqNWvVbqp2TQoP8Y/05qf6ViLiB1Jj0ftLRx0Oky1Z3ioi/5mleItVZ/oXUvvBPUiPVcGBmk2UsJNX970M6Zfwr8O48+nzSJa8Pkr6kF1UMfWqOYWrD8I+QdmZzSF/mS6hY1RURfyKth1+Ryr4xcEDFeMqeI+04uv52IR01/Yt0JQy5u/LNURFxF+lqkK6jsp7K+WPSupxNurrmClKDcNeP90uksj1LSvSN67BrmQtJVT7T8rQfIjUOVzWZ1Oh5g9K1989JujKPO47U6DtD0j9JZ5+b5+VeSTpYuTpPc3WFZf2Qxdf5zyLiPuAgUmJ6ivT92yciXo6Il0nf8cNIVyYdRDp4eanJvFcm7aCfIn1/1wW+kMddnP8/Lel/Gz8YEReTqs+mktrxLiU1rveqxdu8mZ7m93ZgpqTnSNv8mIh4gHTBwI/z9A+RqoS+3ST2Vv2WaqfFqxDNBr58hH9ORFQ9Ql0hSZpJWk8/63Qsy8rbvDqfKdiAJ2lVSXvlapGRpOqXX3c6ruWNpJ0lvTmvp4OBt5IavPsdb/O+c1KwFYFI1ULPkqoS7uX1Bkt73eakqssFpPaG/XJde3/kbd5Hrj4yM7OCzxTMzKzQ7x7YNXz48Bg7dmynwzAz61duu+22pyJiRG/T9bukMHbsWGbNmtXpMMzM+hVJle6Ed/WRmZkVnBTMzKzgpGBmZgUnBTMzKzgpmJlZobakIOmnkp6UdHc34yXpLKUX3M+WtG1dsZiZWTV1nimcS3o7WXf2BDbNf0eSnupoZmYdVNt9ChFxvaSxPUwymfTi+yA9LngtSev142ettMzUmQ9z2R3L3bs3zKyDxq2/Bl/ep+r7sfqukzevjWTx1+HNy8OWSAqSjiSdTTBmTF9fOtV37d5Jz3zgGQC237DSY+bNzFqmk0lBTYY1fTpfREwhvTSb8ePHt/QJflV2+O3eSW+/4TpM3nokH9q+/QnQzFZsnUwK81j8vamjSO8xrVVjEqiyw/dO2sxWFJ1MCtNJ74O9ENgeWFBXe0I5ETQmAe/wzcxeV1tSkHQBMAEYLmke6c1HKwFExDmkd6buRXrn7AvAR1sdQ1cyKCcCJwEzs+7VefXRgb2MD+CTdS1/6syH+cKv7wJ8NmBmVlW/e3R2FeWE8I19/4+TgZlZRQPuMRdOCGZmfTfgkkJXg7ITgpnZ0htQSWHqzIeZ+cAzbL/hOk4IZmZ9MKCSQtdZwuStR3Y4EjOz/mlAJQXAZwlmZstgwCUFMzPrOycFMzMrDJik0NXIbGZmfTdgkoIbmc3Mlt2ASQrgRmYzs2U1IJKCq47MzFpjQCQFVx2ZmbXGgEgK4KojM7NWGDBJwczMlp2TgpmZFZwUzMys4KRgZmYFJwUzMys4KZiZWaHfJwXfuGZm1jr9Pin4xjUzs9bp90kBfOOamVmrDIikYGZmreGkYGZmBScFMzMrOCmYmVnBScHMzApOCmZmVnBSMDOzgpOCmZkVak0KkiZKuk/SXEnHNxk/RtI1km6XNFvSXnXGY2ZmPastKUgaDJwN7AmMAw6UNK5hsi8C0yJiG+AA4Ad1xWNmZr2r80xhO2BuRNwfES8DFwKTG6YJYI3cvSbwWI3xmJlZL+pMCiOBR0r98/KwspOBgyTNA64APtVsRpKOlDRL0qz58+fXEauZmVFvUlCTYdHQfyBwbkSMAvYCzpe0REwRMSUixkfE+BEjRhTD/dhsM7PWqjMpzANGl/pHsWT10GHANICIuBlYBRhedQF+bLaZWWvVmRRuBTaVtKGkoaSG5OkN0zwM7Aog6S2kpLBU9UN+bLaZWevUlhQiYhFwFHAVcC/pKqN7JJ0iaVKe7HPAEZLuBC4ADomIxiomMzNrkyF1zjwiriA1IJeHnVTqngPsWGcMZmZWne9oNjOzgpOCmZkVnBTMzKzgpGBmZoV+mxR845qZWev126TgG9fMzFqv3yYF8I1rZmat1q+TgpmZtZaTgpmZFZwUzMys4KRgZmYFJwUzMyv0mhSUHCTppNw/RtJ29YdmZmbtVuVM4QfAO0hvSQNYCJxdW0RmZtYxVR6dvX1EbCvpdoCIeDa/NMfMzAaYKmcKr0gaTH6/sqQRwGu1RmVmZh1RJSmcBfwaWFfS14EbgFNrjcrMzDqi1+qjiPilpNtI71IW8L6IuLf2yMzMrO16TQqSzo+IDwN/aTLMzMwGkCrVR1uWe3L7wtvqCcfMzDqp26Qg6QRJC4G3SvqnpIW5/0ngsrZFaGZmbdNtUoiIUyNiGHB6RKwREcPy3xsj4oQ2xmhmZm1SpaH5BElrA5sCq5SGX19nYGZm1n5VGpoPB44BRgF3ADsANwO71BuamZm1W5WG5mOAtwMPRcS7gW2A+bVGZWZmHVElKbwYES8CSFo5Iv4CbF5vWGZm1glVnn00T9JawKXAHyQ9CzxWb1hmZtYJVRqa982dJ0u6BlgT+F2tUZmZWUf0mBQkDQJmR8RWABFxXVuiMjOzjuixTSEiXgPulDSmTfGYmVkHVWloXg+4R9KfJE3v+qsyc0kTJd0naa6k47uZZn9JcyTdI2nq0gRvZmatVaWh+St9mXF+RtLZwO7APOBWSdMjYk5pmk2BE4Ad88t71u3LsszMrDWqNDT3tR1hO2BuRNwPIOlCYDIwpzTNEcDZEfFsXtaTfVyWmZm1QJXqo74aCTxS6p+Xh5VtBmwm6UZJMyRNbDYjSUdKmiVp1vz5vm/OzKwudSYFNRkWDf1DSM9UmgAcCPx3vidi8Q9FTImI8RExfsSIES0P1MzMkkpJQdKqkpb2LuZ5wOhS/yiWvOltHnBZRLwSEQ8A95GShJmZdUCvSUHSPqQH4f0u929d8eqjW4FNJW0oaShwAND4uUuBd+f5DidVJ91fPXwzM2ulKmcKJ5Majf8BEBF3AGN7+1BELAKOAq4C7gWmRcQ9kk6RNClPdhXwtKQ5wDXAsRHx9NIWwszMWqPKJamLImKB1KyJoGcRcQVwRcOwk0rdAXw2/5mZWYdVSQp3S/oQMDjfV3A0cFO9YZmZWSdUqT76FLAl8BIwFVgAfLrOoMzMrDOqnClsHhEnAifWHYyZmXVWlTOF70j6i6SvStqy9ojMzKxjek0K+RWcE0iv4Jwi6S5JX6w7MDMza79KN69FxBMRcRbwMdI9Cyf18hEzM+uHqty89hZJJ0u6G/g+6cqjUbVHZmZmbVeloflnwAXAHhHhdzObmQ1gVR6dvUM7AjEzs87rNilImhYR+0u6i8WfbirSzchvrT06MzNrq57OFI7J//duRyBmZtZ53TY0R8TjufMTEfFQ+Q/4RHvCMzOzdqpySeruTYbt2epAzMys83pqU/g46YxgI0mzS6OGATfWHZiZmbVfT20KU4ErgVOB40vDF0bEM7VGZWZmHdFTUoiIeFDSJxtHSFrHicHMbODp7Uxhb+A20iWp5bfsBLBRjXGZmVkHdJsUImLv/H/D9oVjZmadVOXZRztKekPuPkjSdySNqT80MzNrtyqXpP4QeEHSvwGfBx4Czq81KjMz64gqSWFRRAQwGfheRHyPdFmqmZkNMFWekrpQ0gnAh4F3SRoMrFRvWGZm1glVzhQ+CLwEHBoRTwAjgdNrjcrMzDqiyus4nwB+CawpaW/gxYj4ee2RmZlZ21W5+mh/4BbgA8D+wExJ+9UdmJmZtV+VNoUTgbdHxJMAkkYAfwQuqTMwMzNrvyptCoO6EkL2dMXPmZlZP1PlTOF3kq4ivacZUsPzFfWFZGZmnVLlHc3HSno/sBPp+UdTIuLXtUdmZmZtV+VMAeAm4FXgNeDW+sIxM7NOqnL10eGkq4/2BfYDZkg6tO7AzMys/ao0GB8LbBMRh0TEwcDbgOOqzFzSREn3SZor6fgepttPUkgaXy1sMzOrQ5WkMA9YWOpfCDzS24fy4zDOJr3PeRxwoKRxTaYbBhwNzKwSsJmZ1adKUniUdMPayZK+DMwA5kr6rKTP9vC57YC5EXF/RLwMXEh6qF6jrwKnAS8uZexmZtZiVZLC34BLSW9bA7gMeJz0pNSenpY6ksXPKOblYQVJ2wCjI+LyngKQdKSkWZJmzZ8/v0LIZmbWF1UuSf1KH+etJsOiGCkNAs4EDqkQwxRgCsD48eOjl8nNzKyP6rwzeR4wutQ/Cnis1D8M2Aq4VtKDwA7AdDc2m5l1Tp1J4VZgU0kbShoKHABM7xoZEQsiYnhEjI2IsaS2ikkRMavGmMzMrAe1JYWIWAQcBVwF3AtMi4h7JJ0iaVJdyzUzs77rtU1B0mak9zS/KSK2kvRW0hH913r7bERcQcNzkiLipG6mnVApYjMzq02VM4UfAycArwBExGxSVZCZmQ0wVZLCahFxS8OwRXUEY2ZmnVUlKTwlaWPy5aT5rWuP1xqVmZl1RJWnpH6SdI/AFpIeBR4ADqo1KjMz64gqN6/dD+wm6Q2kt7At7O0zZmbWP1W5+uikhn4AIuKUmmIyM7MOqVJ99HypexVgb9J9B2ZmNsBUqT46o9wv6duU7kw2M7OBoy93NK8GbNTqQMzMrPOqtCncxetPNx0MjADcnmBmNgBVaVPYu9S9CPh7fq6RmZkNMD0mhfzOg99GxFZtisfMzDqoxzaFiHgNuFPSmDbFY2ZmHVSl+mg94B5Jt1C6PDUi/PhrM7MBpkpS6OvrOM3MrJ+pkhT2iojjygMkfQu4rp6QzMysU6rcp7B7k2F7tjoQMzPrvG7PFCR9HPgEsJGk2aVRw4Ab6w7MzMzar6fqo6nAlcCpwPGl4Qsj4plaozIzs47oNilExAJgAXBg+8IxM7NO6suzj8zMbIByUjAzs4KTgpmZFZwUzMys4KRgZmYFJwUzMys4KZiZWcFJwczMCk4KZmZWcFIwM7NCrUlB0kRJ90maK+n4JuM/K2mOpNmS/iRpgzrjMTOzntWWFCQNBs4mPWZ7HHCgpHENk90OjI+ItwKXAKfVFY+ZmfWuzjOF7YC5EXF/RLwMXAhMLk8QEddExAu5dwYwqsZ4zMysF3UmhZHAI6X+eXlYdw4jPap7CZKOlDRL0qz58+e3MEQzMyurMymoybBoOqF0EDAeOL3Z+IiYEhHjI2L8iBEjWhiimZmVVXlHc1/NA0aX+kcBjzVOJGk34ERg54h4qcZ4zMysF3WeKdwKbCppQ0lDgQOA6eUJJG0D/AiYFBFP1hiLmZlVUFtSiIhFwFHAVcC9wLSIuEfSKZIm5clOB1YHLpZ0h6Tp3czOzMzaoM7qIyLiCuCKhmEnlbp3q3P5Zma2dHxHs5mZFZwUzMys4KRgZmYFJwUzMys4KZiZWcFJwczMCk4KZmZWcFIwM7OCk4KZmRWcFMzMrOCkYGZmBScFMzMrOCmYmVnBScHMzApOCmZmVnBSMDOzgpOCmZkVnBTMzKzgpGBmZgUnBTMzKzgpmJlZwUnBzMwKTgpmZlZwUjAzs4KTgpmZFZwUzMys4KRgZmYFJwUzMys4KZiZWcFJwczMCk4KZmZWqDUpSJoo6T5JcyUd32T8ypIuyuNnShpbZzxmZtaz2pKCpMHA2cCewDjgQEnjGiY7DHg2IjYBzgS+VVc8ZmbWuzrPFLYD5kbE/RHxMnAhMLlhmsnAebn7EmBXSaoxJjMz68GQGuc9Enik1D8P2L67aSJikaQFwBuBp8oTSToSOBJgzJgxAIxbf41agjYzW5HVmRSaHfFHH6YhIqYAUwDGjx8fAF/eZ8tljc/MzBrUWX00Dxhd6h8FPNbdNJKGAGsCz9QYk5mZ9aDOpHArsKmkDSUNBQ4ApjdMMx04OHfvB1wdEUucKZiZWXvUVn2U2wiOAq4CBgM/jYh7JJ0CzIqI6cBPgPMlzSWdIRxQVzxmZta7OtsUiIgrgCsahp1U6n4R+ECdMZiZWXW+o9nMzApOCmZmVnBSMDOzgpOCmZkV1N+uAJU0H3go9w6n4e7nFciKXHZYscvvsq+YlrXsG0TEiN4m6ndJoUzSrIgY3+k4OmFFLjus2OV32V32Orn6yMzMCk4KZmZW6O9JYUqnA+igFbnssGKX32VfMbWl7P26TcHMzFqrv58pmJlZCzkpmJlZoV8kBUkTJd0naa6k45uMX1nSRXn8TElj2x9lPSqU/bOS5kiaLelPkjboRJx16K3spen2kxSSBsylilXKLmn/vO3vkTS13THWqcL3foykayTdnr/7e3UizlaT9FNJT0q6u5vxknRWXi+zJW3b8iAiYrn+Iz12+2/ARsBQ4E5gXMM0nwDOyd0HABd1Ou42lv3dwGq5++MrUtnzdMOA64EZwPhOx93G7b4pcDuwdu5ft9Nxt7n8U4CP5+5xwIOdjrtFZf93YFvg7m7G7wVcSXpr5Q7AzFbH0B/OFLYD5kbE/RHxMnAhMLlhmsnAebn7EmBXSc1e9dnf9Fr2iLgmIl7IvTNIb7gbCKpsd4CvAqcBL7YzuJpVKfsRwNkR8SxARDzZ5hjrVKX8AXS9qH1NlnyrY78UEdfT89snJwM/j2QGsJak9VoZQ39ICiOBR0r98/KwptNExCJgAfDGtkRXryplLzuMdBQxEPRadknbAKMj4vJ2BtYGVbb7ZsBmkm6UNEPSxLZFV78q5T8ZOEjSPNI7Wz7VntA6bmn3CUut1pfstEizI/7G62irTNMfVS6XpIOA8cDOtUbUPj2WXdIg4EzgkHYF1EZVtvsQUhXSBNLZ4Z8lbRUR/6g5tnaoUv4DgXMj4gxJ7yC9wXGriHit/vA6qvZ9XX84U5gHjC71j2LJU8ViGklDSKeTPZ2C9RdVyo6k3YATgUkR8VKbYqtbb2UfBmwFXCvpQVL96vQB0thc9Tt/WUS8EhEPAPeRksRAUKX8hwHTACLiZmAV0gPjBrpK+4Rl0R+Swq3AppI2lDSU1JA8vWGa6cDBuXs/4OrIrTL9XK9lz1UoPyIlhIFUr9xj2SNiQUQMj4ixETGW1J4yKSJmdSbclqrynb+UdJEBkoaTqpPub2uU9alS/oeBXQEkvYWUFOa3NcrOmA58JF+FtAOwICIeb+UClvvqo4hYJOko4CrSVQk/jYh7JJ0CzIqI6cBPSKePc0lnCAd0LuLWqVj204HVgYtz2/rDETGpY0G3SMWyD0gVy34VsIekOcCrwLER8XTnom6diuX/HPBjSZ8hVZ8cMhAOBCVdQKoSHJ7bS74MrAQQEeeQ2k/2AuYCLwAfbXkMA2A9mplZi/SH6iMzM2sTJwUzMys4KZiZWcFJwczMCk4KZmZWcFKw5ZqkoyXdK+mXPUwzQdJy8agLSZO6nuop6X2SxpXGnZJvNGxXLBMkvbNdy7OBYbm/T8FWeJ8A9sx37S738jX0XfdQvA+4HJiTx53U6uVJGpKf99XMBOA54KZWL9cGLp8p2HJL0jmkxydPl/QZSdtJuik/Q/8mSZs3+czOku7If7dLGpaHHyvp1vwM+q90s7znJJ0h6X/zuylG5OFb54fOzZb0a0lr5+FH6/V3WVyYhx0i6fv5CH0ScHqOZWNJ5yq9+2FPSdNKy50g6Te5ew9JN+cYLpa0epM4r5X0DUnXAcdI2kfpPSK3S/qjpDcpvVPkY8Bn8vLfJWmEpF/l9XCrpB2XYfPYQNXp54f7z389/QEPAsNz9xrAkNy9G/Cr3D0BuDx3/wbYMXevTjob3oP0/H2RDoQuB/69ybIC+L+5+yTg+7l7NrBz7j4F+G7ufgxYOXevlf8fUvrcucB+pfmfS3oMyxDSYxrekIf/EDiI9Oye60vDjwNOahLntcAPSv1r8/qNqIcDZ+Tuk4H/LE03Fdgpd48B7u309vXf8vfn6iPrT9YEzpO0KWkHvlKTaW4EvpPbIP4nIuZJ2oOUGG7P06xOenjc9Q2ffQ24KHf/AvgfSWuSdvjX5eHnARfn7tnALyVdSnoWUSWRHuPwO2AfSZcA7wU+T3rC7TjgxvzIkqHAzd3M5qJS9yjgIqXn6g8Fuqtq2w0Yp9dfNbKGpGERsbBq7DbwOSlYf/JV4JqI2DdXj1zbOEFEfFPSb0nPh5mRG3YFnBoRP1rK5fX2DJj3kt6UNQn4kqQtl2LeFwGfJD2r69aIWKi0t/5DRBxY4fPPl7r/C/hDyIAYAAABVElEQVROREyXNIF0htDMIOAdEfGvpYjTVjBuU7D+ZE3g0dx9SLMJJG0cEXdFxLeAWcAWpAerHdpVPy9ppKR1m3x8EKl6B+BDwA0RsQB4VtK78vAPA9cpvc9hdERcQzrKX4t0BlK2kPSI72auJb128QheP+qfAewoaZMc52qSNuvm82Xl9XJwaXjj8n8PHNXVI2nrCvO2FYyTgvUnpwGnSrqR9PTMZj4t6W5JdwL/Aq6MiN+T6tNvlnQX6ZWtzXbWzwNbSroN2IXUfgBpR3u6pNnA1nn4YOAXeX63A2fGki+4uRA4NjcAb1weERGvkto29sz/iYj5pGR3QV7WDFJS683JpKfk/hl4qjT8N8C+XQ3NwNHA+NwwPofUEG22GD8l1SyT9FxELHG1j9mKxGcKZmZW8JmCmZkVfKZgZmYFJwUzMys4KZiZWcFJwczMCk4KZmZW+P+35YObyGqmsQAAAABJRU5ErkJggg==\n",
>>>>>>> 7b858fa2f2b7364dd1eb46b0d2b2ad8bdfed507a
      "text/plain": [
       "<Figure size 432x288 with 1 Axes>"
      ]
     },
     "metadata": {
      "needs_background": "light"
     },
     "output_type": "display_data"
    },
    {
     "name": "stdout",
     "output_type": "stream",
     "text": [
      "\n",
      "Optimal regularization strength for L2 regulation:  [0.01]\n",
      "Accuracy with L2 Regulation:  0.9733333333333334\n",
      "Average precision-recall score for L2 Regulation: 0.9581070282257136\n",
      "Precision score for L2 Regulation:  0.96712158808933\n",
      "Recall score for L2 Regulation:  0.980503144654088\n",
      "F-1 score for L2 Regulation: 0.9737663960024984\n"
     ]
    },
    {
     "name": "stderr",
     "output_type": "stream",
     "text": [
<<<<<<< HEAD
      "/Users/akash/Documents/coding/Project1/.env/lib/python3.7/site-packages/sklearn/linear_model/logistic.py:1926: ChangedBehaviorWarning: The long-standing behavior to use the accuracy score has changed. The scoring parameter is now used. This warning will disappear in version 0.22.\n",
=======
      "C:\\Users\\zharr\\AppData\\Local\\Programs\\Python\\Python35\\lib\\site-packages\\sklearn\\linear_model\\logistic.py:1917: ChangedBehaviorWarning: The long-standing behavior to use the accuracy score has changed. The scoring parameter is now used. This warning will disappear in version 0.22.\n",
>>>>>>> 7b858fa2f2b7364dd1eb46b0d2b2ad8bdfed507a
      "  ChangedBehaviorWarning)\n"
     ]
    },
    {
     "data": {
<<<<<<< HEAD
      "image/png": "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\n",
=======
      "image/png": "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\n",
>>>>>>> 7b858fa2f2b7364dd1eb46b0d2b2ad8bdfed507a
      "text/plain": [
       "<Figure size 432x288 with 1 Axes>"
      ]
     },
     "metadata": {
      "needs_background": "light"
     },
     "output_type": "display_data"
    }
   ],
   "source": [
    "from sklearn.linear_model import LogisticRegressionCV\n",
    "\n",
    "# Define training and testing data sets\n",
    "X_train = X_lsi_train_reduced\n",
    "y_train = twenty_train_binary_labels\n",
    "\n",
    "X_test = X_lsi_test_reduced\n",
    "y_test = twenty_test_binary_labels\n",
    "\n",
    "# Define regularization strength values here\n",
    "REG_STRENGTH_OPTIONS = [0.001, 0.01, 0.1, 1, 10, 100, 1000]\n",
    "\n",
    "# Determine regulation strength for L1 regulation\n",
    "clf_L1 = LogisticRegressionCV(random_state=42, Cs=REG_STRENGTH_OPTIONS, cv=5, penalty='l1', scoring='accuracy', solver = 'liblinear').fit(X_train, y_train)\n",
    "l1_reg_strength = 1/clf_L1.C_ # Regulization strength is inverse of optimal Cs\n",
    "predicted_L1 = clf_L1.predict(X_test)\n",
    "\n",
    "# Display L1 Stats\n",
    "print('Optimal regularization strength for L1 Regulation: ', l1_reg_strength)\n",
    "print('Accuracy with L1 Regulation for L1 Regulation: ', clf_L1.score(X_test, y_test))\n",
    "print('Average precision-recall score for L1 Regulation:', average_precision_score(y_test, predicted_L1))\n",
    "print('Precision score for L1 Regulation: ', precision_score(y_test, predicted_L1))\n",
    "print('Recall score for L1 Regulation: ', recall_score(y_test, predicted_L1))\n",
    "print('F-1 score for L1 Regulation:', f1_score(y_test, predicted_L1))\n",
    "\n",
    "# L1 ROC Curve\n",
    "score_L1 = clf_L1.decision_function(X_test)\n",
    "fpr, tpr, thresholds = roc_curve(y_test, score_L1)\n",
    "\n",
    "plt.figure()\n",
    "plt.plot(fpr, tpr)\n",
    "plt.title('ROC curve for L1 Regularized Logistic Regression')\n",
    "plt.xlabel('false positive rate')\n",
    "plt.ylabel('true positive rate')\n",
    "plt.xlim(left=-0.01)\n",
    "plt.show()\n",
    "\n",
    "# Determine regulation strength for L2 regulation\n",
    "clf_L2 = LogisticRegressionCV(random_state=42, Cs=REG_STRENGTH_OPTIONS, cv=5, penalty='l2', scoring='accuracy', solver = 'liblinear').fit(X_train, y_train)\n",
    "L2_reg_strength = 1/clf_L2.C_ # Regulization strength is inverse of optimal Cs\n",
    "predicted_L2 = clf_L2.predict(X_test)\n",
    "\n",
    "# Display L2 Stats\n",
    "print('\\nOptimal regularization strength for L2 regulation: ', L2_reg_strength)\n",
    "print('Accuracy with L2 Regulation: ', clf_L2.score(X_test, y_test))\n",
    "print('Average precision-recall score for L2 Regulation:', average_precision_score(y_test, predicted_L2))\n",
    "print('Precision score for L2 Regulation: ', precision_score(y_test, predicted_L2))\n",
    "print('Recall score for L2 Regulation: ', recall_score(y_test, predicted_L2))\n",
    "print('F-1 score for L2 Regulation:', f1_score(y_test, predicted_L2))\n",
    "\n",
    "# L2 ROC Curve\n",
    "score_L2 = clf_L2.decision_function(X_test)\n",
    "fpr, tpr, thresholds = roc_curve(y_test, score_L2)\n",
    "\n",
    "plt.figure()\n",
    "plt.plot(fpr, tpr)\n",
    "plt.title('ROC curve for L2 Regularized Logistic Regression')\n",
    "plt.xlabel('false positive rate')\n",
    "plt.ylabel('true positive rate')\n",
    "plt.xlim(left=-0.01)\n",
    "plt.show()"
   ]
  },
  {
   "cell_type": "markdown",
   "metadata": {
    "colab_type": "text",
    "id": "UGNn6K_exvyB"
   },
   "source": [
    "#### Question 6"
   ]
  },
  {
   "cell_type": "code",
<<<<<<< HEAD
   "execution_count": 19,
=======
   "execution_count": 15,
>>>>>>> 7b858fa2f2b7364dd1eb46b0d2b2ad8bdfed507a
   "metadata": {
    "colab": {},
    "colab_type": "code",
    "id": "5NkfS2HZxvyB"
   },
   "outputs": [],
   "source": [
    "########################################################################################################################\n",
    "# Train a Naive Bayes Gaussian classifier on the reduced TFIDF training set from problem 3\n",
    "\n",
<<<<<<< HEAD
    "from sklearn.naive_bayes import GaussianNB\n",
    "from sklearn.naive_bayes import MultinomialNB\n",
    "# clf = GaussianNB().fit(W_nmf_train_reduced, twenty_train.target)\n",
    "# clf2 = MultinomialNB().fit(W_nmf_train_reduced, twenty_train.target)\n",
    "clf = GaussianNB().fit(W_nmf_train_reduced, twenty_train_binary_labels)\n",
    "clf2 = MultinomialNB().fit(W_nmf_train_reduced, twenty_train_binary_labels)"
=======
    "from sklearn.naive_bayes import GaussianNB"
>>>>>>> 7b858fa2f2b7364dd1eb46b0d2b2ad8bdfed507a
   ]
  },
  {
   "cell_type": "code",
<<<<<<< HEAD
   "execution_count": 20,
=======
   "execution_count": 16,
>>>>>>> 7b858fa2f2b7364dd1eb46b0d2b2ad8bdfed507a
   "metadata": {
    "colab": {},
    "colab_type": "code",
    "id": "kQN9jIzvxvyE",
    "outputId": "6308ec42-fcf7-4348-a564-562c886cda29"
   },
   "outputs": [
    {
     "name": "stdout",
     "output_type": "stream",
     "text": [
<<<<<<< HEAD
      "Accuracy of NB Gaussian: 0.9346031746031747\n"
     ]
=======
      "Accuracy for Gaussian NB from LSI:  0.8974603174603175\n",
      "Average precision-recall score for Gaussian NB from LSI: 0.8368804639741867\n",
      "Precision score for Gaussian NB from LSI:  0.8452316076294278\n",
      "Recall score for Gaussian NB from LSI:  0.9754716981132076\n",
      "F-1 score for Gaussian NB from LSI: 0.9056934306569343\n"
     ]
    },
    {
     "data": {
      "image/png": "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\n",
      "text/plain": [
       "<Figure size 432x288 with 1 Axes>"
      ]
     },
     "metadata": {
      "needs_background": "light"
     },
     "output_type": "display_data"
>>>>>>> 7b858fa2f2b7364dd1eb46b0d2b2ad8bdfed507a
    }
   ],
   "source": [
    "########################################################################################################################\n",
<<<<<<< HEAD
    "# Generate predictions for test set\n",
    "\n",
    "predicted = clf.predict(W_nmf_test_reduced)\n",
    "correct = 0\n",
    "for i, category in enumerate(predicted):\n",
    "    if category == twenty_test_binary_labels[i]:\n",
    "        correct += 1\n",
    "#     if i < 5:\n",
    "#         print('{} =? {}'.format(twenty_test.target_names[category], twenty_test.target_names[twenty_test.target[i]]))\n",
    "#     elif i == 5:\n",
    "#         print('...\\n')\n",
    "print('Accuracy of NB Gaussian: {}'.format(correct / W_nmf_test_reduced.shape[0]))"
=======
    "# Generate stats for GaussianNB using LSI for reduction\n",
    "\n",
    "# Define training and testing data sets\n",
    "X_train = X_lsi_train_reduced\n",
    "y_train = twenty_train_binary_labels\n",
    "\n",
    "X_test = X_lsi_test_reduced\n",
    "y_test = twenty_test_binary_labels\n",
    "\n",
    "clf = GaussianNB().fit(X_train, twenty_train_binary_labels)\n",
    "\n",
    "predicted = clf.predict(X_test)\n",
    "\n",
    "# Display GNB Stats\n",
    "print('Accuracy for Gaussian NB from LSI: ', clf.score(X_test, y_test))\n",
    "print('Average precision-recall score for Gaussian NB from LSI:', average_precision_score(y_test, predicted))\n",
    "print('Precision score for Gaussian NB from LSI: ', precision_score(y_test, predicted))\n",
    "print('Recall score for Gaussian NB from LSI: ', recall_score(y_test, predicted))\n",
    "print('F-1 score for Gaussian NB from LSI:', f1_score(y_test, predicted))\n",
    "\n",
    "# GNB ROC Curve\n",
    "prob_score = clf.predict_proba(X_test)\n",
    "fpr, tpr, thresholds = roc_curve(y_test, prob_score[:, 1])\n",
    "\n",
    "plt.figure()\n",
    "plt.plot(fpr, tpr)\n",
    "plt.title('ROC curve for Gaussian NB from LSI')\n",
    "plt.xlabel('false positive rate')\n",
    "plt.ylabel('true positive rate')\n",
    "plt.xlim(left=-0.01)\n",
    "plt.show()"
>>>>>>> 7b858fa2f2b7364dd1eb46b0d2b2ad8bdfed507a
   ]
  },
  {
   "cell_type": "code",
<<<<<<< HEAD
   "execution_count": 21,
   "metadata": {
    "colab": {},
    "colab_type": "code",
    "id": "h0IChMnAxvyH"
=======
   "execution_count": 17,
   "metadata": {
    "colab": {},
    "colab_type": "code",
    "id": "h0IChMnAxvyH",
    "scrolled": true
>>>>>>> 7b858fa2f2b7364dd1eb46b0d2b2ad8bdfed507a
   },
   "outputs": [
    {
     "name": "stdout",
     "output_type": "stream",
     "text": [
<<<<<<< HEAD
      "Accuracy of NB Gaussian: 0.940952380952381\n"
     ]
=======
      "Accuracy for Gaussian NB for NMF:  0.9374603174603174\n",
      "Average precision-recall score for Gaussian NB for NMF: 0.905859525045954\n",
      "Precision score for Gaussian NB for NMF:  0.9259938837920489\n",
      "Recall score for Gaussian NB for NMF:  0.9522012578616352\n",
      "F-1 score for Gaussian NB for NMF: 0.9389147286821706\n"
     ]
    },
    {
     "data": {
      "image/png": "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\n",
      "text/plain": [
       "<Figure size 432x288 with 1 Axes>"
      ]
     },
     "metadata": {
      "needs_background": "light"
     },
     "output_type": "display_data"
>>>>>>> 7b858fa2f2b7364dd1eb46b0d2b2ad8bdfed507a
    }
   ],
   "source": [
    "########################################################################################################################\n",
<<<<<<< HEAD
    "# Generate predictions for test set\n",
    "\n",
    "predicted = clf2.predict(W_nmf_test_reduced)\n",
    "correct = 0\n",
    "for i, category in enumerate(predicted):\n",
    "    if category == twenty_test_binary_labels[i]:\n",
    "        correct += 1\n",
    "#     if i < 5:\n",
    "#         print('{} =? {}'.format(twenty_test.target_names[category], twenty_test.target_names[twenty_test.target[i]]))\n",
    "#     elif i == 5:\n",
    "#         print('...\\n')\n",
    "print('Accuracy of NB Gaussian: {}'.format(correct / W_nmf_test_reduced.shape[0]))"
=======
    "# Generate stats for GaussianNB using NMF for reduction\n",
    "\n",
    "# Define training and testing data sets\n",
    "X_train = W_nmf_train_reduced\n",
    "y_train = twenty_train_binary_labels\n",
    "\n",
    "X_test = W_nmf_test_reduced\n",
    "y_test = twenty_test_binary_labels\n",
    "\n",
    "clf = GaussianNB().fit(X_train, twenty_train_binary_labels)\n",
    "\n",
    "predicted = clf.predict(X_test)\n",
    "\n",
    "# Display GNB Stats\n",
    "print('Accuracy for Gaussian NB for NMF: ', clf.score(X_test, y_test))\n",
    "print('Average precision-recall score for Gaussian NB for NMF:', average_precision_score(y_test, predicted))\n",
    "print('Precision score for Gaussian NB for NMF: ', precision_score(y_test, predicted))\n",
    "print('Recall score for Gaussian NB for NMF: ', recall_score(y_test, predicted))\n",
    "print('F-1 score for Gaussian NB for NMF:', f1_score(y_test, predicted))\n",
    "\n",
    "# GNB ROC Curve\n",
    "prob_score = clf.predict_proba(X_test)\n",
    "fpr, tpr, thresholds = roc_curve(y_test, prob_score[:, 1])\n",
    "\n",
    "plt.figure()\n",
    "plt.plot(fpr, tpr)\n",
    "plt.title('ROC curve for Gaussian NB from NMF')\n",
    "plt.xlabel('false positive rate')\n",
    "plt.ylabel('true positive rate')\n",
    "plt.xlim(left=-0.01)\n",
    "plt.show()"
>>>>>>> 7b858fa2f2b7364dd1eb46b0d2b2ad8bdfed507a
   ]
  },
  {
   "cell_type": "code",
   "execution_count": null,
   "metadata": {},
   "outputs": [],
   "source": []
  }
 ],
 "metadata": {
  "colab": {
   "include_colab_link": true,
   "name": "proj1.ipynb",
   "provenance": [],
   "toc_visible": true,
   "version": "0.3.2"
  },
  "kernelspec": {
   "display_name": "Python 3",
   "language": "python",
   "name": "python3"
  },
  "language_info": {
   "codemirror_mode": {
    "name": "ipython",
    "version": 3
   },
   "file_extension": ".py",
   "mimetype": "text/x-python",
   "name": "python",
   "nbconvert_exporter": "python",
   "pygments_lexer": "ipython3",
<<<<<<< HEAD
   "version": "3.7.2"
=======
   "version": "3.5.4"
>>>>>>> 7b858fa2f2b7364dd1eb46b0d2b2ad8bdfed507a
  }
 },
 "nbformat": 4,
 "nbformat_minor": 1
}
